{
 "cells": [
  {
   "cell_type": "markdown",
   "metadata": {},
   "source": [
    "### Name: Aafaq Iqbal Khan,                                Student ID: x20108851"
   ]
  },
  {
   "cell_type": "markdown",
   "metadata": {},
   "source": [
    "# Steps\n",
    "    1) Import libraries\n",
    "\n",
    "    2) Load JSON file\n",
    "\n",
    "    3) Push JSON file into MongoDB\n",
    "\n",
    "    4) Retrieve files from MongoBD into Dataframe\n",
    "\n",
    "    5) Drop Irrelevant columns\n",
    "\n",
    "    6) Join 2 datasets \n",
    "\n",
    "    7) Modify the columns into appropiate Data tyes\n",
    "\n",
    "    8) Label Encoding of Categorical variables\n",
    "\n",
    "    9) Dealing with null values\n",
    "\n",
    "    10) Distribution Visualisation and Outliers dealing\n",
    "\n",
    "    11) Storing Structured Data into PostgreSQL\n",
    "\n",
    "    12) Descriptive Analysis of Data"
   ]
  },
  {
   "cell_type": "code",
   "execution_count": 72,
   "metadata": {},
   "outputs": [],
   "source": [
    "#Importing relevant libraries \n",
    "\n",
    "import json\n",
    "import pymongo\n",
    "import pandas as pd\n",
    "import os\n",
    "import pandas.io.sql as sqlio\n",
    "import psycopg2\n",
    "\n",
    "#Importing visualisation libraries \n",
    "import pprint\n",
    "import seaborn as sns\n",
    "import matplotlib.pyplot as plt\n",
    "import plotly.express as px\n",
    "import plotly.graph_objects as go\n",
    "\n",
    "#for encoding categorical variables \n",
    "from sklearn.preprocessing import LabelEncoder\n",
    " \n",
    "#Importing basic libraries \n",
    "import math\n",
    "import scipy.stats as stats\n",
    "import pylab\n"
   ]
  },
  {
   "cell_type": "code",
   "execution_count": 73,
   "metadata": {},
   "outputs": [],
   "source": [
    "from pymongo import MongoClient\n",
    "client = MongoClient(host = '192.168.56.30:27017')"
   ]
  },
  {
   "cell_type": "code",
   "execution_count": 74,
   "metadata": {},
   "outputs": [],
   "source": [
    "db = client['test8_database']"
   ]
  },
  {
   "cell_type": "code",
   "execution_count": 75,
   "metadata": {},
   "outputs": [],
   "source": [
    "collection4 = db['COVID-19_deaths_by_race_and_Hispanic_group-collection']"
   ]
  },
  {
   "cell_type": "code",
   "execution_count": 76,
   "metadata": {},
   "outputs": [],
   "source": [
    "collection5 = db['Conditions_contributing_to_deaths_involving_COVID-19-collection']"
   ]
  },
  {
   "cell_type": "markdown",
   "metadata": {},
   "source": [
    "### Load JSON files "
   ]
  },
  {
   "cell_type": "code",
   "execution_count": 11,
   "metadata": {},
   "outputs": [
    {
     "name": "stdout",
     "output_type": "stream",
     "text": [
      "6489\n"
     ]
    }
   ],
   "source": [
    "import json\n",
    "dict_data = []\n",
    "headers = []\n",
    "with open(\"Deaths_involving_coronavirus_disease_2019__COVID-19__by_race_and_Hispanic_origin_group_and_age__by_state.json\") as f:\n",
    "    json_data = json.load(f)\n",
    "    for val in json_data[\"meta\"][\"view\"][\"columns\"]:\n",
    "        headers.append(val[\"name\"])\n",
    "    for val in json_data[\"data\"]:\n",
    "        row = {}\n",
    "        for i in range(len(val)):\n",
    "            row[headers[i]] = val[i]\n",
    "        dict_data.append(row)\n",
    "\n",
    "# print(dict_data)\n",
    "print(len(dict_data))"
   ]
  },
  {
   "cell_type": "markdown",
   "metadata": {},
   "source": [
    "Insert JSON file into MongoDB Collection "
   ]
  },
  {
   "cell_type": "code",
   "execution_count": 13,
   "metadata": {},
   "outputs": [
    {
     "name": "stdout",
     "output_type": "stream",
     "text": [
      "Collection already has data\n"
     ]
    },
    {
     "name": "stderr",
     "output_type": "stream",
     "text": [
      "<ipython-input-13-9e834ea7a607>:2: DeprecationWarning: count is deprecated. Use estimated_document_count or count_documents instead. Please note that $where must be replaced by $expr, $near must be replaced by $geoWithin with $center, and $nearSphere must be replaced by $geoWithin with $centerSphere\n",
      "  if(collection4.count() == 0):\n",
      "<ipython-input-13-9e834ea7a607>:4: DeprecationWarning: count is deprecated. Use estimated_document_count or count_documents instead. Please note that $where must be replaced by $expr, $near must be replaced by $geoWithin with $center, and $nearSphere must be replaced by $geoWithin with $centerSphere\n",
      "  elif(collection4.count() > 0):\n"
     ]
    }
   ],
   "source": [
    "#collection4.insert_many(dict_data)\n",
    "if(collection4.count() == 0):\n",
    "    collection4.insert_many(dict_data)\n",
    "elif(collection4.count() > 0):\n",
    "    print(\"Collection already has data\")"
   ]
  },
  {
   "cell_type": "markdown",
   "metadata": {},
   "source": [
    "Load second JSON file and insert into another colection in database"
   ]
  },
  {
   "cell_type": "code",
   "execution_count": 14,
   "metadata": {},
   "outputs": [
    {
     "name": "stdout",
     "output_type": "stream",
     "text": [
      "235980\n"
     ]
    }
   ],
   "source": [
    "dict_data = []\n",
    "headers = []\n",
    "with open(\"Conditions_contributing_to_deaths_involving_coronavirus_disease_2019__COVID-19___by_age_group_and_state__United_States.json\", encoding='utf8') as f:\n",
    "    json_data = json.load(f)\n",
    "    for val in json_data[\"meta\"][\"view\"][\"columns\"]:\n",
    "        headers.append(val[\"name\"])\n",
    "    for val in json_data[\"data\"]:\n",
    "        row = {}\n",
    "        for i in range(len(val)):\n",
    "            row[headers[i]] = val[i]\n",
    "        dict_data.append(row)\n",
    "\n",
    "# print(dict_data)\n",
    "print(len(dict_data))"
   ]
  },
  {
   "cell_type": "code",
   "execution_count": 15,
   "metadata": {},
   "outputs": [
    {
     "name": "stdout",
     "output_type": "stream",
     "text": [
      "Collection already has data\n"
     ]
    },
    {
     "name": "stderr",
     "output_type": "stream",
     "text": [
      "<ipython-input-15-d0f533771ebb>:2: DeprecationWarning: count is deprecated. Use estimated_document_count or count_documents instead. Please note that $where must be replaced by $expr, $near must be replaced by $geoWithin with $center, and $nearSphere must be replaced by $geoWithin with $centerSphere\n",
      "  if(collection5.count() == 0):\n",
      "<ipython-input-15-d0f533771ebb>:4: DeprecationWarning: count is deprecated. Use estimated_document_count or count_documents instead. Please note that $where must be replaced by $expr, $near must be replaced by $geoWithin with $center, and $nearSphere must be replaced by $geoWithin with $centerSphere\n",
      "  elif(collection5.count() > 0):\n"
     ]
    }
   ],
   "source": [
    "#collection5.insert_many(dict_data)\n",
    "if(collection5.count() == 0):\n",
    "    collection5.insert_many(dict_data)\n",
    "elif(collection5.count() > 0):\n",
    "    print(\"Collection already has data\")"
   ]
  },
  {
   "cell_type": "markdown",
   "metadata": {},
   "source": [
    "Retrieve the data from MongoDB collection by using find() function and store into pandas dataframe"
   ]
  },
  {
   "cell_type": "code",
   "execution_count": 77,
   "metadata": {},
   "outputs": [],
   "source": [
    "df_deaths_by_race = pd.DataFrame(list(collection4.find()))"
   ]
  },
  {
   "cell_type": "code",
   "execution_count": 78,
   "metadata": {},
   "outputs": [],
   "source": [
    "df_Conditions_contributing_to_deaths = pd.DataFrame(list(collection5.find()))"
   ]
  },
  {
   "cell_type": "code",
   "execution_count": 18,
   "metadata": {},
   "outputs": [
    {
     "data": {
      "text/html": [
       "<div>\n",
       "<style scoped>\n",
       "    .dataframe tbody tr th:only-of-type {\n",
       "        vertical-align: middle;\n",
       "    }\n",
       "\n",
       "    .dataframe tbody tr th {\n",
       "        vertical-align: top;\n",
       "    }\n",
       "\n",
       "    .dataframe thead th {\n",
       "        text-align: right;\n",
       "    }\n",
       "</style>\n",
       "<table border=\"1\" class=\"dataframe\">\n",
       "  <thead>\n",
       "    <tr style=\"text-align: right;\">\n",
       "      <th></th>\n",
       "      <th>_id</th>\n",
       "      <th>sid</th>\n",
       "      <th>id</th>\n",
       "      <th>position</th>\n",
       "      <th>created_at</th>\n",
       "      <th>created_meta</th>\n",
       "      <th>updated_at</th>\n",
       "      <th>updated_meta</th>\n",
       "      <th>meta</th>\n",
       "      <th>Data As Of</th>\n",
       "      <th>...</th>\n",
       "      <th>Year</th>\n",
       "      <th>Month</th>\n",
       "      <th>State</th>\n",
       "      <th>Condition Group</th>\n",
       "      <th>Condition</th>\n",
       "      <th>ICD10_codes</th>\n",
       "      <th>Age Group</th>\n",
       "      <th>COVID-19 Deaths</th>\n",
       "      <th>Number of Mentions</th>\n",
       "      <th>Flag</th>\n",
       "    </tr>\n",
       "  </thead>\n",
       "  <tbody>\n",
       "    <tr>\n",
       "      <th>0</th>\n",
       "      <td>606e309025a5cb447cbed53c</td>\n",
       "      <td>row-bb4i~3f8k.wfuf</td>\n",
       "      <td>00000000-0000-0000-1E12-3FD61F1FFF49</td>\n",
       "      <td>0</td>\n",
       "      <td>1617812442</td>\n",
       "      <td>None</td>\n",
       "      <td>1617812442</td>\n",
       "      <td>None</td>\n",
       "      <td>{ }</td>\n",
       "      <td>2021-04-04T00:00:00</td>\n",
       "      <td>...</td>\n",
       "      <td>None</td>\n",
       "      <td>None</td>\n",
       "      <td>United States</td>\n",
       "      <td>Respiratory diseases</td>\n",
       "      <td>Influenza and pneumonia</td>\n",
       "      <td>J09-J18</td>\n",
       "      <td>0-24</td>\n",
       "      <td>350</td>\n",
       "      <td>362</td>\n",
       "      <td>None</td>\n",
       "    </tr>\n",
       "    <tr>\n",
       "      <th>1</th>\n",
       "      <td>606e309025a5cb447cbed53d</td>\n",
       "      <td>row-g7b4.72zd_ivca</td>\n",
       "      <td>00000000-0000-0000-56A1-C28C79B25B89</td>\n",
       "      <td>0</td>\n",
       "      <td>1617812442</td>\n",
       "      <td>None</td>\n",
       "      <td>1617812442</td>\n",
       "      <td>None</td>\n",
       "      <td>{ }</td>\n",
       "      <td>2021-04-04T00:00:00</td>\n",
       "      <td>...</td>\n",
       "      <td>None</td>\n",
       "      <td>None</td>\n",
       "      <td>United States</td>\n",
       "      <td>Respiratory diseases</td>\n",
       "      <td>Influenza and pneumonia</td>\n",
       "      <td>J09-J18</td>\n",
       "      <td>25-34</td>\n",
       "      <td>1603</td>\n",
       "      <td>1639</td>\n",
       "      <td>None</td>\n",
       "    </tr>\n",
       "    <tr>\n",
       "      <th>2</th>\n",
       "      <td>606e309025a5cb447cbed53e</td>\n",
       "      <td>row-rniz~caqk_eecx</td>\n",
       "      <td>00000000-0000-0000-AFA8-640BE9B7C5E2</td>\n",
       "      <td>0</td>\n",
       "      <td>1617812442</td>\n",
       "      <td>None</td>\n",
       "      <td>1617812442</td>\n",
       "      <td>None</td>\n",
       "      <td>{ }</td>\n",
       "      <td>2021-04-04T00:00:00</td>\n",
       "      <td>...</td>\n",
       "      <td>None</td>\n",
       "      <td>None</td>\n",
       "      <td>United States</td>\n",
       "      <td>Respiratory diseases</td>\n",
       "      <td>Influenza and pneumonia</td>\n",
       "      <td>J09-J18</td>\n",
       "      <td>35-44</td>\n",
       "      <td>4314</td>\n",
       "      <td>4422</td>\n",
       "      <td>None</td>\n",
       "    </tr>\n",
       "    <tr>\n",
       "      <th>3</th>\n",
       "      <td>606e309025a5cb447cbed53f</td>\n",
       "      <td>row-j78h_x6ty.kbkp</td>\n",
       "      <td>00000000-0000-0000-1521-0AE99D708FC3</td>\n",
       "      <td>0</td>\n",
       "      <td>1617812442</td>\n",
       "      <td>None</td>\n",
       "      <td>1617812442</td>\n",
       "      <td>None</td>\n",
       "      <td>{ }</td>\n",
       "      <td>2021-04-04T00:00:00</td>\n",
       "      <td>...</td>\n",
       "      <td>None</td>\n",
       "      <td>None</td>\n",
       "      <td>United States</td>\n",
       "      <td>Respiratory diseases</td>\n",
       "      <td>Influenza and pneumonia</td>\n",
       "      <td>J09-J18</td>\n",
       "      <td>45-54</td>\n",
       "      <td>12922</td>\n",
       "      <td>13272</td>\n",
       "      <td>None</td>\n",
       "    </tr>\n",
       "    <tr>\n",
       "      <th>4</th>\n",
       "      <td>606e309025a5cb447cbed540</td>\n",
       "      <td>row-ctxw_tbim-4tyr</td>\n",
       "      <td>00000000-0000-0000-0C79-564CAC4DAA68</td>\n",
       "      <td>0</td>\n",
       "      <td>1617812442</td>\n",
       "      <td>None</td>\n",
       "      <td>1617812442</td>\n",
       "      <td>None</td>\n",
       "      <td>{ }</td>\n",
       "      <td>2021-04-04T00:00:00</td>\n",
       "      <td>...</td>\n",
       "      <td>None</td>\n",
       "      <td>None</td>\n",
       "      <td>United States</td>\n",
       "      <td>Respiratory diseases</td>\n",
       "      <td>Influenza and pneumonia</td>\n",
       "      <td>J09-J18</td>\n",
       "      <td>55-64</td>\n",
       "      <td>33277</td>\n",
       "      <td>34129</td>\n",
       "      <td>None</td>\n",
       "    </tr>\n",
       "  </tbody>\n",
       "</table>\n",
       "<p>5 rows × 23 columns</p>\n",
       "</div>"
      ],
      "text/plain": [
       "                        _id                 sid  \\\n",
       "0  606e309025a5cb447cbed53c  row-bb4i~3f8k.wfuf   \n",
       "1  606e309025a5cb447cbed53d  row-g7b4.72zd_ivca   \n",
       "2  606e309025a5cb447cbed53e  row-rniz~caqk_eecx   \n",
       "3  606e309025a5cb447cbed53f  row-j78h_x6ty.kbkp   \n",
       "4  606e309025a5cb447cbed540  row-ctxw_tbim-4tyr   \n",
       "\n",
       "                                     id  position  created_at created_meta  \\\n",
       "0  00000000-0000-0000-1E12-3FD61F1FFF49         0  1617812442         None   \n",
       "1  00000000-0000-0000-56A1-C28C79B25B89         0  1617812442         None   \n",
       "2  00000000-0000-0000-AFA8-640BE9B7C5E2         0  1617812442         None   \n",
       "3  00000000-0000-0000-1521-0AE99D708FC3         0  1617812442         None   \n",
       "4  00000000-0000-0000-0C79-564CAC4DAA68         0  1617812442         None   \n",
       "\n",
       "   updated_at updated_meta meta           Data As Of  ...  Year Month  \\\n",
       "0  1617812442         None  { }  2021-04-04T00:00:00  ...  None  None   \n",
       "1  1617812442         None  { }  2021-04-04T00:00:00  ...  None  None   \n",
       "2  1617812442         None  { }  2021-04-04T00:00:00  ...  None  None   \n",
       "3  1617812442         None  { }  2021-04-04T00:00:00  ...  None  None   \n",
       "4  1617812442         None  { }  2021-04-04T00:00:00  ...  None  None   \n",
       "\n",
       "           State       Condition Group                Condition ICD10_codes  \\\n",
       "0  United States  Respiratory diseases  Influenza and pneumonia     J09-J18   \n",
       "1  United States  Respiratory diseases  Influenza and pneumonia     J09-J18   \n",
       "2  United States  Respiratory diseases  Influenza and pneumonia     J09-J18   \n",
       "3  United States  Respiratory diseases  Influenza and pneumonia     J09-J18   \n",
       "4  United States  Respiratory diseases  Influenza and pneumonia     J09-J18   \n",
       "\n",
       "  Age Group COVID-19 Deaths Number of Mentions  Flag  \n",
       "0      0-24             350                362  None  \n",
       "1     25-34            1603               1639  None  \n",
       "2     35-44            4314               4422  None  \n",
       "3     45-54           12922              13272  None  \n",
       "4     55-64           33277              34129  None  \n",
       "\n",
       "[5 rows x 23 columns]"
      ]
     },
     "execution_count": 18,
     "metadata": {},
     "output_type": "execute_result"
    }
   ],
   "source": [
    "df_Conditions_contributing_to_deaths.head()"
   ]
  },
  {
   "cell_type": "code",
   "execution_count": 19,
   "metadata": {
    "scrolled": true
   },
   "outputs": [
    {
     "data": {
      "text/html": [
       "<div>\n",
       "<style scoped>\n",
       "    .dataframe tbody tr th:only-of-type {\n",
       "        vertical-align: middle;\n",
       "    }\n",
       "\n",
       "    .dataframe tbody tr th {\n",
       "        vertical-align: top;\n",
       "    }\n",
       "\n",
       "    .dataframe thead th {\n",
       "        text-align: right;\n",
       "    }\n",
       "</style>\n",
       "<table border=\"1\" class=\"dataframe\">\n",
       "  <thead>\n",
       "    <tr style=\"text-align: right;\">\n",
       "      <th></th>\n",
       "      <th>_id</th>\n",
       "      <th>sid</th>\n",
       "      <th>id</th>\n",
       "      <th>position</th>\n",
       "      <th>created_at</th>\n",
       "      <th>created_meta</th>\n",
       "      <th>updated_at</th>\n",
       "      <th>updated_meta</th>\n",
       "      <th>meta</th>\n",
       "      <th>Data as of</th>\n",
       "      <th>...</th>\n",
       "      <th>State</th>\n",
       "      <th>Age group</th>\n",
       "      <th>Race and Hispanic Origin Group</th>\n",
       "      <th>COVID-19 Deaths</th>\n",
       "      <th>Total Deaths</th>\n",
       "      <th>Pneumonia Deaths</th>\n",
       "      <th>Pneumonia and COVID-19 Deaths</th>\n",
       "      <th>Influenza Deaths</th>\n",
       "      <th>Pneumonia, Influenza, or COVID-19 Deaths</th>\n",
       "      <th>Footnote</th>\n",
       "    </tr>\n",
       "  </thead>\n",
       "  <tbody>\n",
       "    <tr>\n",
       "      <th>0</th>\n",
       "      <td>606e2f3025a5cb447cbebbe2</td>\n",
       "      <td>row-czuu~ub9b_59ux</td>\n",
       "      <td>00000000-0000-0000-6D86-7F20A72018AC</td>\n",
       "      <td>0</td>\n",
       "      <td>1617812512</td>\n",
       "      <td>None</td>\n",
       "      <td>1617812512</td>\n",
       "      <td>None</td>\n",
       "      <td>{ }</td>\n",
       "      <td>2021-04-07T00:00:00</td>\n",
       "      <td>...</td>\n",
       "      <td>United States</td>\n",
       "      <td>All Ages</td>\n",
       "      <td>Total Deaths</td>\n",
       "      <td>539723</td>\n",
       "      <td>4160118</td>\n",
       "      <td>466386</td>\n",
       "      <td>263173</td>\n",
       "      <td>9031</td>\n",
       "      <td>750721</td>\n",
       "      <td>None</td>\n",
       "    </tr>\n",
       "    <tr>\n",
       "      <th>1</th>\n",
       "      <td>606e2f3025a5cb447cbebbe3</td>\n",
       "      <td>row-ypps-279h~m7ar</td>\n",
       "      <td>00000000-0000-0000-471C-6E3702D46824</td>\n",
       "      <td>0</td>\n",
       "      <td>1617812512</td>\n",
       "      <td>None</td>\n",
       "      <td>1617812512</td>\n",
       "      <td>None</td>\n",
       "      <td>{ }</td>\n",
       "      <td>2021-04-07T00:00:00</td>\n",
       "      <td>...</td>\n",
       "      <td>United States</td>\n",
       "      <td>All Ages</td>\n",
       "      <td>Non-Hispanic White</td>\n",
       "      <td>328239</td>\n",
       "      <td>3047347</td>\n",
       "      <td>301454</td>\n",
       "      <td>149830</td>\n",
       "      <td>6038</td>\n",
       "      <td>485501</td>\n",
       "      <td>None</td>\n",
       "    </tr>\n",
       "    <tr>\n",
       "      <th>2</th>\n",
       "      <td>606e2f3025a5cb447cbebbe4</td>\n",
       "      <td>row-b8zs_kvf6_8e6u</td>\n",
       "      <td>00000000-0000-0000-6DF3-0A215265E02C</td>\n",
       "      <td>0</td>\n",
       "      <td>1617812512</td>\n",
       "      <td>None</td>\n",
       "      <td>1617812512</td>\n",
       "      <td>None</td>\n",
       "      <td>{ }</td>\n",
       "      <td>2021-04-07T00:00:00</td>\n",
       "      <td>...</td>\n",
       "      <td>United States</td>\n",
       "      <td>Under 1 year</td>\n",
       "      <td>Non-Hispanic White</td>\n",
       "      <td>14</td>\n",
       "      <td>9139</td>\n",
       "      <td>98</td>\n",
       "      <td>1</td>\n",
       "      <td>10</td>\n",
       "      <td>121</td>\n",
       "      <td>None</td>\n",
       "    </tr>\n",
       "    <tr>\n",
       "      <th>3</th>\n",
       "      <td>606e2f3025a5cb447cbebbe5</td>\n",
       "      <td>row-i726_3t48~vrkt</td>\n",
       "      <td>00000000-0000-0000-E2E3-EDFA24295CA7</td>\n",
       "      <td>0</td>\n",
       "      <td>1617812512</td>\n",
       "      <td>None</td>\n",
       "      <td>1617812512</td>\n",
       "      <td>None</td>\n",
       "      <td>{ }</td>\n",
       "      <td>2021-04-07T00:00:00</td>\n",
       "      <td>...</td>\n",
       "      <td>United States</td>\n",
       "      <td>0-17 years</td>\n",
       "      <td>Non-Hispanic White</td>\n",
       "      <td>72</td>\n",
       "      <td>16860</td>\n",
       "      <td>287</td>\n",
       "      <td>14</td>\n",
       "      <td>84</td>\n",
       "      <td>429</td>\n",
       "      <td>None</td>\n",
       "    </tr>\n",
       "    <tr>\n",
       "      <th>4</th>\n",
       "      <td>606e2f3025a5cb447cbebbe6</td>\n",
       "      <td>row-hnsv.anpj~2g9m</td>\n",
       "      <td>00000000-0000-0000-B6C2-8821981747BF</td>\n",
       "      <td>0</td>\n",
       "      <td>1617812512</td>\n",
       "      <td>None</td>\n",
       "      <td>1617812512</td>\n",
       "      <td>None</td>\n",
       "      <td>{ }</td>\n",
       "      <td>2021-04-07T00:00:00</td>\n",
       "      <td>...</td>\n",
       "      <td>United States</td>\n",
       "      <td>1-4 years</td>\n",
       "      <td>Non-Hispanic White</td>\n",
       "      <td>12</td>\n",
       "      <td>1802</td>\n",
       "      <td>59</td>\n",
       "      <td>2</td>\n",
       "      <td>25</td>\n",
       "      <td>94</td>\n",
       "      <td>None</td>\n",
       "    </tr>\n",
       "  </tbody>\n",
       "</table>\n",
       "<p>5 rows × 22 columns</p>\n",
       "</div>"
      ],
      "text/plain": [
       "                        _id                 sid  \\\n",
       "0  606e2f3025a5cb447cbebbe2  row-czuu~ub9b_59ux   \n",
       "1  606e2f3025a5cb447cbebbe3  row-ypps-279h~m7ar   \n",
       "2  606e2f3025a5cb447cbebbe4  row-b8zs_kvf6_8e6u   \n",
       "3  606e2f3025a5cb447cbebbe5  row-i726_3t48~vrkt   \n",
       "4  606e2f3025a5cb447cbebbe6  row-hnsv.anpj~2g9m   \n",
       "\n",
       "                                     id  position  created_at created_meta  \\\n",
       "0  00000000-0000-0000-6D86-7F20A72018AC         0  1617812512         None   \n",
       "1  00000000-0000-0000-471C-6E3702D46824         0  1617812512         None   \n",
       "2  00000000-0000-0000-6DF3-0A215265E02C         0  1617812512         None   \n",
       "3  00000000-0000-0000-E2E3-EDFA24295CA7         0  1617812512         None   \n",
       "4  00000000-0000-0000-B6C2-8821981747BF         0  1617812512         None   \n",
       "\n",
       "   updated_at updated_meta meta           Data as of  ...          State  \\\n",
       "0  1617812512         None  { }  2021-04-07T00:00:00  ...  United States   \n",
       "1  1617812512         None  { }  2021-04-07T00:00:00  ...  United States   \n",
       "2  1617812512         None  { }  2021-04-07T00:00:00  ...  United States   \n",
       "3  1617812512         None  { }  2021-04-07T00:00:00  ...  United States   \n",
       "4  1617812512         None  { }  2021-04-07T00:00:00  ...  United States   \n",
       "\n",
       "      Age group Race and Hispanic Origin Group COVID-19 Deaths Total Deaths  \\\n",
       "0      All Ages                   Total Deaths          539723      4160118   \n",
       "1      All Ages             Non-Hispanic White          328239      3047347   \n",
       "2  Under 1 year             Non-Hispanic White              14         9139   \n",
       "3    0-17 years             Non-Hispanic White              72        16860   \n",
       "4     1-4 years             Non-Hispanic White              12         1802   \n",
       "\n",
       "  Pneumonia Deaths Pneumonia and COVID-19 Deaths Influenza Deaths  \\\n",
       "0           466386                        263173             9031   \n",
       "1           301454                        149830             6038   \n",
       "2               98                             1               10   \n",
       "3              287                            14               84   \n",
       "4               59                             2               25   \n",
       "\n",
       "  Pneumonia, Influenza, or COVID-19 Deaths Footnote  \n",
       "0                                   750721     None  \n",
       "1                                   485501     None  \n",
       "2                                      121     None  \n",
       "3                                      429     None  \n",
       "4                                       94     None  \n",
       "\n",
       "[5 rows x 22 columns]"
      ]
     },
     "execution_count": 19,
     "metadata": {},
     "output_type": "execute_result"
    }
   ],
   "source": [
    "df_deaths_by_race.head()"
   ]
  },
  {
   "cell_type": "code",
   "execution_count": 20,
   "metadata": {},
   "outputs": [
    {
     "data": {
      "text/plain": [
       "(235980, 23)"
      ]
     },
     "execution_count": 20,
     "metadata": {},
     "output_type": "execute_result"
    }
   ],
   "source": [
    "df_Conditions_contributing_to_deaths.shape"
   ]
  },
  {
   "cell_type": "markdown",
   "metadata": {},
   "source": [
    "#### check Dataframe Columns"
   ]
  },
  {
   "cell_type": "code",
   "execution_count": 21,
   "metadata": {},
   "outputs": [
    {
     "data": {
      "text/plain": [
       "Index(['_id', 'sid', 'id', 'position', 'created_at', 'created_meta',\n",
       "       'updated_at', 'updated_meta', 'meta', 'Data as of', 'Start Date',\n",
       "       'End Date', 'State', 'Age group', 'Race and Hispanic Origin Group',\n",
       "       'COVID-19 Deaths', 'Total Deaths', 'Pneumonia Deaths',\n",
       "       'Pneumonia and COVID-19 Deaths', 'Influenza Deaths',\n",
       "       'Pneumonia, Influenza, or COVID-19 Deaths', 'Footnote'],\n",
       "      dtype='object')"
      ]
     },
     "execution_count": 21,
     "metadata": {},
     "output_type": "execute_result"
    }
   ],
   "source": [
    "df_deaths_by_race.columns"
   ]
  },
  {
   "cell_type": "code",
   "execution_count": 22,
   "metadata": {},
   "outputs": [
    {
     "data": {
      "text/plain": [
       "Index(['_id', 'sid', 'id', 'position', 'created_at', 'created_meta',\n",
       "       'updated_at', 'updated_meta', 'meta', 'Data As Of', 'Start Date',\n",
       "       'End Date', 'Group', 'Year', 'Month', 'State', 'Condition Group',\n",
       "       'Condition', 'ICD10_codes', 'Age Group', 'COVID-19 Deaths',\n",
       "       'Number of Mentions', 'Flag'],\n",
       "      dtype='object')"
      ]
     },
     "execution_count": 22,
     "metadata": {},
     "output_type": "execute_result"
    }
   ],
   "source": [
    "df_Conditions_contributing_to_deaths.columns"
   ]
  },
  {
   "cell_type": "markdown",
   "metadata": {},
   "source": [
    "#### Drop the irrelevant attributes from both dataframes"
   ]
  },
  {
   "cell_type": "code",
   "execution_count": 79,
   "metadata": {},
   "outputs": [
    {
     "data": {
      "text/plain": [
       "Index(['Data as of', 'Start Date', 'End Date', 'State', 'Age group',\n",
       "       'Race and Hispanic Origin Group', 'COVID-19 Deaths', 'Total Deaths',\n",
       "       'Pneumonia Deaths', 'Pneumonia and COVID-19 Deaths', 'Influenza Deaths',\n",
       "       'Pneumonia, Influenza, or COVID-19 Deaths'],\n",
       "      dtype='object')"
      ]
     },
     "execution_count": 79,
     "metadata": {},
     "output_type": "execute_result"
    }
   ],
   "source": [
    "to_drop= ['_id','sid', 'id', 'position', 'created_at', 'created_meta',\n",
    "       'updated_at', 'updated_meta', 'meta','Footnote']\n",
    "df_deaths_by_race.drop(columns=to_drop, inplace=True)\n",
    "df_deaths_by_race.columns"
   ]
  },
  {
   "cell_type": "code",
   "execution_count": null,
   "metadata": {},
   "outputs": [],
   "source": []
  },
  {
   "cell_type": "markdown",
   "metadata": {},
   "source": [
    "As 'Age Group' and 'State' are already present in our first dataframe so we will drop it from our second dataframe as well"
   ]
  },
  {
   "cell_type": "code",
   "execution_count": 80,
   "metadata": {},
   "outputs": [
    {
     "data": {
      "text/plain": [
       "Index(['Data As Of', 'Start Date', 'End Date', 'Group', 'Condition Group',\n",
       "       'Condition', 'ICD10_codes', 'COVID-19 Deaths'],\n",
       "      dtype='object')"
      ]
     },
     "execution_count": 80,
     "metadata": {},
     "output_type": "execute_result"
    }
   ],
   "source": [
    "to_drop= ['_id','sid', 'id', 'position', 'created_at', 'created_meta',\n",
    "       'updated_at', 'updated_meta', 'meta','Age Group','State', 'Number of Mentions', 'Flag', 'Year','Month']\n",
    "df_Conditions_contributing_to_deaths.drop(columns=to_drop, inplace=True)\n",
    "df_Conditions_contributing_to_deaths.columns"
   ]
  },
  {
   "cell_type": "code",
   "execution_count": null,
   "metadata": {},
   "outputs": [],
   "source": []
  },
  {
   "cell_type": "code",
   "execution_count": 25,
   "metadata": {},
   "outputs": [
    {
     "name": "stdout",
     "output_type": "stream",
     "text": [
      "(235980, 8) (6489, 12)\n"
     ]
    }
   ],
   "source": [
    "print(df_Conditions_contributing_to_deaths.shape, df_deaths_by_race.shape)"
   ]
  },
  {
   "cell_type": "markdown",
   "metadata": {},
   "source": [
    "#### Check unique values of Start Date culmuns of each dataframe"
   ]
  },
  {
   "cell_type": "code",
   "execution_count": 81,
   "metadata": {},
   "outputs": [
    {
     "name": "stdout",
     "output_type": "stream",
     "text": [
      "Unique Start Dates in df__deaths_by_race =  ['2020-01-01T00:00:00']\n",
      "\n",
      "\n",
      "Unique Start Dates in df__Conditions_contributing_to_deaths =  ['2020-01-01T00:00:00' '2021-01-01T00:00:00' '2020-02-01T00:00:00'\n",
      " '2020-03-01T00:00:00' '2020-04-01T00:00:00' '2020-05-01T00:00:00'\n",
      " '2020-06-01T00:00:00' '2020-07-01T00:00:00' '2020-08-01T00:00:00'\n",
      " '2020-09-01T00:00:00' '2020-10-01T00:00:00' '2020-11-01T00:00:00'\n",
      " '2020-12-01T00:00:00' '2021-02-01T00:00:00' '2021-03-01T00:00:00'\n",
      " '2021-04-01T00:00:00']\n"
     ]
    }
   ],
   "source": [
    "print(\"Unique Start Dates in df__deaths_by_race = \", df_deaths_by_race['Start Date'].unique())\n",
    "\n",
    "print(\"\\n\\nUnique Start Dates in df__Conditions_contributing_to_deaths = \", df_Conditions_contributing_to_deaths['Start Date'].unique())"
   ]
  },
  {
   "cell_type": "markdown",
   "metadata": {},
   "source": [
    "Select only those records that have starting survey date is 01 January 2020"
   ]
  },
  {
   "cell_type": "code",
   "execution_count": 82,
   "metadata": {},
   "outputs": [],
   "source": [
    "df_Conditions_contributing_to_deaths=df_Conditions_contributing_to_deaths[df_Conditions_contributing_to_deaths[\"Start Date\"]=='2020-01-01T00:00:00']"
   ]
  },
  {
   "cell_type": "code",
   "execution_count": 83,
   "metadata": {
    "scrolled": true
   },
   "outputs": [
    {
     "name": "stdout",
     "output_type": "stream",
     "text": [
      "(37260, 8) (6489, 12)\n"
     ]
    }
   ],
   "source": [
    "print(df_Conditions_contributing_to_deaths.shape, df_deaths_by_race.shape)"
   ]
  },
  {
   "cell_type": "code",
   "execution_count": 84,
   "metadata": {},
   "outputs": [
    {
     "name": "stdout",
     "output_type": "stream",
     "text": [
      "Unique Start Dates in df__deaths_by_race =  ['2020-01-01T00:00:00']\n",
      "\n",
      "\n",
      "Unique Start Dates in df__Conditions_contributing_to_deaths =  ['2020-01-01T00:00:00']\n"
     ]
    }
   ],
   "source": [
    "print(\"Unique Start Dates in df__deaths_by_race = \", df_deaths_by_race['Start Date'].unique())\n",
    "\n",
    "print(\"\\n\\nUnique Start Dates in df__Conditions_contributing_to_deaths = \", df_Conditions_contributing_to_deaths['Start Date'].unique())"
   ]
  },
  {
   "cell_type": "markdown",
   "metadata": {},
   "source": [
    "### Join the both dataframes by inner join"
   ]
  },
  {
   "cell_type": "code",
   "execution_count": 86,
   "metadata": {},
   "outputs": [],
   "source": [
    "df_combine = df_deaths_by_race.join(df_Conditions_contributing_to_deaths,rsuffix='_conditions')"
   ]
  },
  {
   "cell_type": "code",
   "execution_count": 87,
   "metadata": {},
   "outputs": [
    {
     "data": {
      "text/plain": [
       "(6489, 20)"
      ]
     },
     "execution_count": 87,
     "metadata": {},
     "output_type": "execute_result"
    }
   ],
   "source": [
    "df_combine.shape"
   ]
  },
  {
   "cell_type": "code",
   "execution_count": 88,
   "metadata": {},
   "outputs": [
    {
     "data": {
      "text/html": [
       "<div>\n",
       "<style scoped>\n",
       "    .dataframe tbody tr th:only-of-type {\n",
       "        vertical-align: middle;\n",
       "    }\n",
       "\n",
       "    .dataframe tbody tr th {\n",
       "        vertical-align: top;\n",
       "    }\n",
       "\n",
       "    .dataframe thead th {\n",
       "        text-align: right;\n",
       "    }\n",
       "</style>\n",
       "<table border=\"1\" class=\"dataframe\">\n",
       "  <thead>\n",
       "    <tr style=\"text-align: right;\">\n",
       "      <th></th>\n",
       "      <th>Data as of</th>\n",
       "      <th>Start Date</th>\n",
       "      <th>End Date</th>\n",
       "      <th>State</th>\n",
       "      <th>Age group</th>\n",
       "      <th>Race and Hispanic Origin Group</th>\n",
       "      <th>COVID-19 Deaths</th>\n",
       "      <th>Total Deaths</th>\n",
       "      <th>Pneumonia Deaths</th>\n",
       "      <th>Pneumonia and COVID-19 Deaths</th>\n",
       "      <th>Influenza Deaths</th>\n",
       "      <th>Pneumonia, Influenza, or COVID-19 Deaths</th>\n",
       "      <th>Data As Of</th>\n",
       "      <th>Start Date_conditions</th>\n",
       "      <th>End Date_conditions</th>\n",
       "      <th>Group</th>\n",
       "      <th>Condition Group</th>\n",
       "      <th>Condition</th>\n",
       "      <th>ICD10_codes</th>\n",
       "      <th>COVID-19 Deaths_conditions</th>\n",
       "    </tr>\n",
       "  </thead>\n",
       "  <tbody>\n",
       "    <tr>\n",
       "      <th>0</th>\n",
       "      <td>2021-04-07T00:00:00</td>\n",
       "      <td>2020-01-01T00:00:00</td>\n",
       "      <td>2021-04-03T00:00:00</td>\n",
       "      <td>United States</td>\n",
       "      <td>All Ages</td>\n",
       "      <td>Total Deaths</td>\n",
       "      <td>539723</td>\n",
       "      <td>4160118</td>\n",
       "      <td>466386</td>\n",
       "      <td>263173</td>\n",
       "      <td>9031</td>\n",
       "      <td>750721</td>\n",
       "      <td>2021-04-04T00:00:00</td>\n",
       "      <td>2020-01-01T00:00:00</td>\n",
       "      <td>2021-04-03T00:00:00</td>\n",
       "      <td>By Total</td>\n",
       "      <td>Respiratory diseases</td>\n",
       "      <td>Influenza and pneumonia</td>\n",
       "      <td>J09-J18</td>\n",
       "      <td>350</td>\n",
       "    </tr>\n",
       "    <tr>\n",
       "      <th>1</th>\n",
       "      <td>2021-04-07T00:00:00</td>\n",
       "      <td>2020-01-01T00:00:00</td>\n",
       "      <td>2021-04-03T00:00:00</td>\n",
       "      <td>United States</td>\n",
       "      <td>All Ages</td>\n",
       "      <td>Non-Hispanic White</td>\n",
       "      <td>328239</td>\n",
       "      <td>3047347</td>\n",
       "      <td>301454</td>\n",
       "      <td>149830</td>\n",
       "      <td>6038</td>\n",
       "      <td>485501</td>\n",
       "      <td>2021-04-04T00:00:00</td>\n",
       "      <td>2020-01-01T00:00:00</td>\n",
       "      <td>2021-04-03T00:00:00</td>\n",
       "      <td>By Total</td>\n",
       "      <td>Respiratory diseases</td>\n",
       "      <td>Influenza and pneumonia</td>\n",
       "      <td>J09-J18</td>\n",
       "      <td>1603</td>\n",
       "    </tr>\n",
       "    <tr>\n",
       "      <th>2</th>\n",
       "      <td>2021-04-07T00:00:00</td>\n",
       "      <td>2020-01-01T00:00:00</td>\n",
       "      <td>2021-04-03T00:00:00</td>\n",
       "      <td>United States</td>\n",
       "      <td>Under 1 year</td>\n",
       "      <td>Non-Hispanic White</td>\n",
       "      <td>14</td>\n",
       "      <td>9139</td>\n",
       "      <td>98</td>\n",
       "      <td>1</td>\n",
       "      <td>10</td>\n",
       "      <td>121</td>\n",
       "      <td>2021-04-04T00:00:00</td>\n",
       "      <td>2020-01-01T00:00:00</td>\n",
       "      <td>2021-04-03T00:00:00</td>\n",
       "      <td>By Total</td>\n",
       "      <td>Respiratory diseases</td>\n",
       "      <td>Influenza and pneumonia</td>\n",
       "      <td>J09-J18</td>\n",
       "      <td>4314</td>\n",
       "    </tr>\n",
       "    <tr>\n",
       "      <th>3</th>\n",
       "      <td>2021-04-07T00:00:00</td>\n",
       "      <td>2020-01-01T00:00:00</td>\n",
       "      <td>2021-04-03T00:00:00</td>\n",
       "      <td>United States</td>\n",
       "      <td>0-17 years</td>\n",
       "      <td>Non-Hispanic White</td>\n",
       "      <td>72</td>\n",
       "      <td>16860</td>\n",
       "      <td>287</td>\n",
       "      <td>14</td>\n",
       "      <td>84</td>\n",
       "      <td>429</td>\n",
       "      <td>2021-04-04T00:00:00</td>\n",
       "      <td>2020-01-01T00:00:00</td>\n",
       "      <td>2021-04-03T00:00:00</td>\n",
       "      <td>By Total</td>\n",
       "      <td>Respiratory diseases</td>\n",
       "      <td>Influenza and pneumonia</td>\n",
       "      <td>J09-J18</td>\n",
       "      <td>12922</td>\n",
       "    </tr>\n",
       "    <tr>\n",
       "      <th>4</th>\n",
       "      <td>2021-04-07T00:00:00</td>\n",
       "      <td>2020-01-01T00:00:00</td>\n",
       "      <td>2021-04-03T00:00:00</td>\n",
       "      <td>United States</td>\n",
       "      <td>1-4 years</td>\n",
       "      <td>Non-Hispanic White</td>\n",
       "      <td>12</td>\n",
       "      <td>1802</td>\n",
       "      <td>59</td>\n",
       "      <td>2</td>\n",
       "      <td>25</td>\n",
       "      <td>94</td>\n",
       "      <td>2021-04-04T00:00:00</td>\n",
       "      <td>2020-01-01T00:00:00</td>\n",
       "      <td>2021-04-03T00:00:00</td>\n",
       "      <td>By Total</td>\n",
       "      <td>Respiratory diseases</td>\n",
       "      <td>Influenza and pneumonia</td>\n",
       "      <td>J09-J18</td>\n",
       "      <td>33277</td>\n",
       "    </tr>\n",
       "  </tbody>\n",
       "</table>\n",
       "</div>"
      ],
      "text/plain": [
       "            Data as of           Start Date             End Date  \\\n",
       "0  2021-04-07T00:00:00  2020-01-01T00:00:00  2021-04-03T00:00:00   \n",
       "1  2021-04-07T00:00:00  2020-01-01T00:00:00  2021-04-03T00:00:00   \n",
       "2  2021-04-07T00:00:00  2020-01-01T00:00:00  2021-04-03T00:00:00   \n",
       "3  2021-04-07T00:00:00  2020-01-01T00:00:00  2021-04-03T00:00:00   \n",
       "4  2021-04-07T00:00:00  2020-01-01T00:00:00  2021-04-03T00:00:00   \n",
       "\n",
       "           State     Age group Race and Hispanic Origin Group COVID-19 Deaths  \\\n",
       "0  United States      All Ages                   Total Deaths          539723   \n",
       "1  United States      All Ages             Non-Hispanic White          328239   \n",
       "2  United States  Under 1 year             Non-Hispanic White              14   \n",
       "3  United States    0-17 years             Non-Hispanic White              72   \n",
       "4  United States     1-4 years             Non-Hispanic White              12   \n",
       "\n",
       "  Total Deaths Pneumonia Deaths Pneumonia and COVID-19 Deaths  \\\n",
       "0      4160118           466386                        263173   \n",
       "1      3047347           301454                        149830   \n",
       "2         9139               98                             1   \n",
       "3        16860              287                            14   \n",
       "4         1802               59                             2   \n",
       "\n",
       "  Influenza Deaths Pneumonia, Influenza, or COVID-19 Deaths  \\\n",
       "0             9031                                   750721   \n",
       "1             6038                                   485501   \n",
       "2               10                                      121   \n",
       "3               84                                      429   \n",
       "4               25                                       94   \n",
       "\n",
       "            Data As Of Start Date_conditions  End Date_conditions     Group  \\\n",
       "0  2021-04-04T00:00:00   2020-01-01T00:00:00  2021-04-03T00:00:00  By Total   \n",
       "1  2021-04-04T00:00:00   2020-01-01T00:00:00  2021-04-03T00:00:00  By Total   \n",
       "2  2021-04-04T00:00:00   2020-01-01T00:00:00  2021-04-03T00:00:00  By Total   \n",
       "3  2021-04-04T00:00:00   2020-01-01T00:00:00  2021-04-03T00:00:00  By Total   \n",
       "4  2021-04-04T00:00:00   2020-01-01T00:00:00  2021-04-03T00:00:00  By Total   \n",
       "\n",
       "        Condition Group                Condition ICD10_codes  \\\n",
       "0  Respiratory diseases  Influenza and pneumonia     J09-J18   \n",
       "1  Respiratory diseases  Influenza and pneumonia     J09-J18   \n",
       "2  Respiratory diseases  Influenza and pneumonia     J09-J18   \n",
       "3  Respiratory diseases  Influenza and pneumonia     J09-J18   \n",
       "4  Respiratory diseases  Influenza and pneumonia     J09-J18   \n",
       "\n",
       "  COVID-19 Deaths_conditions  \n",
       "0                        350  \n",
       "1                       1603  \n",
       "2                       4314  \n",
       "3                      12922  \n",
       "4                      33277  "
      ]
     },
     "execution_count": 88,
     "metadata": {},
     "output_type": "execute_result"
    }
   ],
   "source": [
    "df_combine.head()"
   ]
  },
  {
   "cell_type": "markdown",
   "metadata": {},
   "source": [
    "Data Types of combine dataframe"
   ]
  },
  {
   "cell_type": "code",
   "execution_count": 33,
   "metadata": {},
   "outputs": [
    {
     "data": {
      "text/plain": [
       "Data as of                                  object\n",
       "Start Date                                  object\n",
       "End Date                                    object\n",
       "State                                       object\n",
       "Age group                                   object\n",
       "Race and Hispanic Origin Group              object\n",
       "COVID-19 Deaths                             object\n",
       "Total Deaths                                object\n",
       "Pneumonia Deaths                            object\n",
       "Pneumonia and COVID-19 Deaths               object\n",
       "Influenza Deaths                            object\n",
       "Pneumonia, Influenza, or COVID-19 Deaths    object\n",
       "Data As Of                                  object\n",
       "Start Date_conditions                       object\n",
       "End Date_conditions                         object\n",
       "Group                                       object\n",
       "Condition Group                             object\n",
       "Condition                                   object\n",
       "ICD10_codes                                 object\n",
       "COVID-19 Deaths_conditions                  object\n",
       "dtype: object"
      ]
     },
     "execution_count": 33,
     "metadata": {},
     "output_type": "execute_result"
    }
   ],
   "source": [
    "df_combine.dtypes"
   ]
  },
  {
   "cell_type": "markdown",
   "metadata": {},
   "source": [
    "As we can see all columns have object type and not much information is presented by describe function so we have convert the columns into appropiate datatypes before further pre-processing   "
   ]
  },
  {
   "cell_type": "code",
   "execution_count": 89,
   "metadata": {},
   "outputs": [],
   "source": [
    "df_combine[['COVID-19 Deaths', 'Total Deaths', 'Pneumonia Deaths',\n",
    "       'Pneumonia and COVID-19 Deaths', 'Influenza Deaths',\n",
    "       'Pneumonia, Influenza, or COVID-19 Deaths','COVID-19 Deaths_conditions']]= df_combine[['COVID-19 Deaths', 'Total Deaths', 'Pneumonia Deaths',\n",
    "       'Pneumonia and COVID-19 Deaths', 'Influenza Deaths',\n",
    "       'Pneumonia, Influenza, or COVID-19 Deaths', 'COVID-19 Deaths_conditions' ]].apply(pd.to_numeric)"
   ]
  },
  {
   "cell_type": "code",
   "execution_count": 35,
   "metadata": {},
   "outputs": [
    {
     "data": {
      "text/plain": [
       "Data as of                                   object\n",
       "Start Date                                   object\n",
       "End Date                                     object\n",
       "State                                        object\n",
       "Age group                                    object\n",
       "Race and Hispanic Origin Group               object\n",
       "COVID-19 Deaths                             float64\n",
       "Total Deaths                                float64\n",
       "Pneumonia Deaths                            float64\n",
       "Pneumonia and COVID-19 Deaths               float64\n",
       "Influenza Deaths                            float64\n",
       "Pneumonia, Influenza, or COVID-19 Deaths    float64\n",
       "Data As Of                                   object\n",
       "Start Date_conditions                        object\n",
       "End Date_conditions                          object\n",
       "Group                                        object\n",
       "Condition Group                              object\n",
       "Condition                                    object\n",
       "ICD10_codes                                  object\n",
       "COVID-19 Deaths_conditions                  float64\n",
       "dtype: object"
      ]
     },
     "execution_count": 35,
     "metadata": {},
     "output_type": "execute_result"
    }
   ],
   "source": [
    "df_combine.dtypes"
   ]
  },
  {
   "cell_type": "markdown",
   "metadata": {},
   "source": [
    "#### Label Encoding of Categorical variables by sing sci-kit learn library approach:"
   ]
  },
  {
   "cell_type": "code",
   "execution_count": 92,
   "metadata": {},
   "outputs": [
    {
     "data": {
      "text/html": [
       "<div>\n",
       "<style scoped>\n",
       "    .dataframe tbody tr th:only-of-type {\n",
       "        vertical-align: middle;\n",
       "    }\n",
       "\n",
       "    .dataframe tbody tr th {\n",
       "        vertical-align: top;\n",
       "    }\n",
       "\n",
       "    .dataframe thead th {\n",
       "        text-align: right;\n",
       "    }\n",
       "</style>\n",
       "<table border=\"1\" class=\"dataframe\">\n",
       "  <thead>\n",
       "    <tr style=\"text-align: right;\">\n",
       "      <th></th>\n",
       "      <th>Data as of</th>\n",
       "      <th>Start Date</th>\n",
       "      <th>End Date</th>\n",
       "      <th>State</th>\n",
       "      <th>Age group</th>\n",
       "      <th>Race and Hispanic Origin Group</th>\n",
       "      <th>COVID-19 Deaths</th>\n",
       "      <th>Total Deaths</th>\n",
       "      <th>Pneumonia Deaths</th>\n",
       "      <th>Pneumonia and COVID-19 Deaths</th>\n",
       "      <th>...</th>\n",
       "      <th>Group</th>\n",
       "      <th>Condition Group</th>\n",
       "      <th>Condition</th>\n",
       "      <th>ICD10_codes</th>\n",
       "      <th>COVID-19 Deaths_conditions</th>\n",
       "      <th>State_Cat</th>\n",
       "      <th>Age group_Cat</th>\n",
       "      <th>Race and Hispanic Origin Group_Cat</th>\n",
       "      <th>Condition Group_Cat</th>\n",
       "      <th>Condition_Cat</th>\n",
       "    </tr>\n",
       "  </thead>\n",
       "  <tbody>\n",
       "    <tr>\n",
       "      <th>0</th>\n",
       "      <td>2021-04-07T00:00:00</td>\n",
       "      <td>2020-01-01T00:00:00</td>\n",
       "      <td>2021-04-03T00:00:00</td>\n",
       "      <td>United States</td>\n",
       "      <td>All Ages</td>\n",
       "      <td>Total Deaths</td>\n",
       "      <td>539723.0</td>\n",
       "      <td>4160118.0</td>\n",
       "      <td>466386.0</td>\n",
       "      <td>263173.0</td>\n",
       "      <td>...</td>\n",
       "      <td>By Total</td>\n",
       "      <td>Respiratory diseases</td>\n",
       "      <td>Influenza and pneumonia</td>\n",
       "      <td>J09-J18</td>\n",
       "      <td>350.0</td>\n",
       "      <td>46</td>\n",
       "      <td>14</td>\n",
       "      <td>7</td>\n",
       "      <td>9</td>\n",
       "      <td>11</td>\n",
       "    </tr>\n",
       "    <tr>\n",
       "      <th>1</th>\n",
       "      <td>2021-04-07T00:00:00</td>\n",
       "      <td>2020-01-01T00:00:00</td>\n",
       "      <td>2021-04-03T00:00:00</td>\n",
       "      <td>United States</td>\n",
       "      <td>All Ages</td>\n",
       "      <td>Non-Hispanic White</td>\n",
       "      <td>328239.0</td>\n",
       "      <td>3047347.0</td>\n",
       "      <td>301454.0</td>\n",
       "      <td>149830.0</td>\n",
       "      <td>...</td>\n",
       "      <td>By Total</td>\n",
       "      <td>Respiratory diseases</td>\n",
       "      <td>Influenza and pneumonia</td>\n",
       "      <td>J09-J18</td>\n",
       "      <td>1603.0</td>\n",
       "      <td>46</td>\n",
       "      <td>14</td>\n",
       "      <td>6</td>\n",
       "      <td>9</td>\n",
       "      <td>11</td>\n",
       "    </tr>\n",
       "    <tr>\n",
       "      <th>2</th>\n",
       "      <td>2021-04-07T00:00:00</td>\n",
       "      <td>2020-01-01T00:00:00</td>\n",
       "      <td>2021-04-03T00:00:00</td>\n",
       "      <td>United States</td>\n",
       "      <td>Under 1 year</td>\n",
       "      <td>Non-Hispanic White</td>\n",
       "      <td>14.0</td>\n",
       "      <td>9139.0</td>\n",
       "      <td>98.0</td>\n",
       "      <td>1.0</td>\n",
       "      <td>...</td>\n",
       "      <td>By Total</td>\n",
       "      <td>Respiratory diseases</td>\n",
       "      <td>Influenza and pneumonia</td>\n",
       "      <td>J09-J18</td>\n",
       "      <td>4314.0</td>\n",
       "      <td>46</td>\n",
       "      <td>15</td>\n",
       "      <td>6</td>\n",
       "      <td>9</td>\n",
       "      <td>11</td>\n",
       "    </tr>\n",
       "    <tr>\n",
       "      <th>3</th>\n",
       "      <td>2021-04-07T00:00:00</td>\n",
       "      <td>2020-01-01T00:00:00</td>\n",
       "      <td>2021-04-03T00:00:00</td>\n",
       "      <td>United States</td>\n",
       "      <td>0-17 years</td>\n",
       "      <td>Non-Hispanic White</td>\n",
       "      <td>72.0</td>\n",
       "      <td>16860.0</td>\n",
       "      <td>287.0</td>\n",
       "      <td>14.0</td>\n",
       "      <td>...</td>\n",
       "      <td>By Total</td>\n",
       "      <td>Respiratory diseases</td>\n",
       "      <td>Influenza and pneumonia</td>\n",
       "      <td>J09-J18</td>\n",
       "      <td>12922.0</td>\n",
       "      <td>46</td>\n",
       "      <td>0</td>\n",
       "      <td>6</td>\n",
       "      <td>9</td>\n",
       "      <td>11</td>\n",
       "    </tr>\n",
       "    <tr>\n",
       "      <th>4</th>\n",
       "      <td>2021-04-07T00:00:00</td>\n",
       "      <td>2020-01-01T00:00:00</td>\n",
       "      <td>2021-04-03T00:00:00</td>\n",
       "      <td>United States</td>\n",
       "      <td>1-4 years</td>\n",
       "      <td>Non-Hispanic White</td>\n",
       "      <td>12.0</td>\n",
       "      <td>1802.0</td>\n",
       "      <td>59.0</td>\n",
       "      <td>2.0</td>\n",
       "      <td>...</td>\n",
       "      <td>By Total</td>\n",
       "      <td>Respiratory diseases</td>\n",
       "      <td>Influenza and pneumonia</td>\n",
       "      <td>J09-J18</td>\n",
       "      <td>33277.0</td>\n",
       "      <td>46</td>\n",
       "      <td>1</td>\n",
       "      <td>6</td>\n",
       "      <td>9</td>\n",
       "      <td>11</td>\n",
       "    </tr>\n",
       "  </tbody>\n",
       "</table>\n",
       "<p>5 rows × 25 columns</p>\n",
       "</div>"
      ],
      "text/plain": [
       "            Data as of           Start Date             End Date  \\\n",
       "0  2021-04-07T00:00:00  2020-01-01T00:00:00  2021-04-03T00:00:00   \n",
       "1  2021-04-07T00:00:00  2020-01-01T00:00:00  2021-04-03T00:00:00   \n",
       "2  2021-04-07T00:00:00  2020-01-01T00:00:00  2021-04-03T00:00:00   \n",
       "3  2021-04-07T00:00:00  2020-01-01T00:00:00  2021-04-03T00:00:00   \n",
       "4  2021-04-07T00:00:00  2020-01-01T00:00:00  2021-04-03T00:00:00   \n",
       "\n",
       "           State     Age group Race and Hispanic Origin Group  \\\n",
       "0  United States      All Ages                   Total Deaths   \n",
       "1  United States      All Ages             Non-Hispanic White   \n",
       "2  United States  Under 1 year             Non-Hispanic White   \n",
       "3  United States    0-17 years             Non-Hispanic White   \n",
       "4  United States     1-4 years             Non-Hispanic White   \n",
       "\n",
       "   COVID-19 Deaths  Total Deaths  Pneumonia Deaths  \\\n",
       "0         539723.0     4160118.0          466386.0   \n",
       "1         328239.0     3047347.0          301454.0   \n",
       "2             14.0        9139.0              98.0   \n",
       "3             72.0       16860.0             287.0   \n",
       "4             12.0        1802.0              59.0   \n",
       "\n",
       "   Pneumonia and COVID-19 Deaths  ...     Group       Condition Group  \\\n",
       "0                       263173.0  ...  By Total  Respiratory diseases   \n",
       "1                       149830.0  ...  By Total  Respiratory diseases   \n",
       "2                            1.0  ...  By Total  Respiratory diseases   \n",
       "3                           14.0  ...  By Total  Respiratory diseases   \n",
       "4                            2.0  ...  By Total  Respiratory diseases   \n",
       "\n",
       "                 Condition ICD10_codes COVID-19 Deaths_conditions State_Cat  \\\n",
       "0  Influenza and pneumonia     J09-J18                      350.0        46   \n",
       "1  Influenza and pneumonia     J09-J18                     1603.0        46   \n",
       "2  Influenza and pneumonia     J09-J18                     4314.0        46   \n",
       "3  Influenza and pneumonia     J09-J18                    12922.0        46   \n",
       "4  Influenza and pneumonia     J09-J18                    33277.0        46   \n",
       "\n",
       "  Age group_Cat Race and Hispanic Origin Group_Cat Condition Group_Cat  \\\n",
       "0            14                                  7                   9   \n",
       "1            14                                  6                   9   \n",
       "2            15                                  6                   9   \n",
       "3             0                                  6                   9   \n",
       "4             1                                  6                   9   \n",
       "\n",
       "   Condition_Cat  \n",
       "0             11  \n",
       "1             11  \n",
       "2             11  \n",
       "3             11  \n",
       "4             11  \n",
       "\n",
       "[5 rows x 25 columns]"
      ]
     },
     "execution_count": 92,
     "metadata": {},
     "output_type": "execute_result"
    }
   ],
   "source": [
    "# creating instance of labelencoder\n",
    "labelencoder = LabelEncoder()\n",
    "# Assigning numerical values and storing in another column\n",
    "\n",
    "df_combine['State_Cat'] = labelencoder.fit_transform(df_combine['State'].astype(str))\n",
    "df_combine['Age group_Cat'] = labelencoder.fit_transform(df_combine['Age group'].astype(str))\n",
    "df_combine['Race and Hispanic Origin Group_Cat'] = labelencoder.fit_transform(df_combine['Race and Hispanic Origin Group'].astype(str))\n",
    "df_combine['Condition Group_Cat'] = labelencoder.fit_transform(df_combine['Condition Group'].astype(str))\n",
    "df_combine['Condition_Cat'] = labelencoder.fit_transform(df_combine['Condition'].astype(str))\n",
    "\n",
    "  \n",
    "df_combine.head()"
   ]
  },
  {
   "cell_type": "code",
   "execution_count": null,
   "metadata": {},
   "outputs": [],
   "source": []
  },
  {
   "cell_type": "markdown",
   "metadata": {},
   "source": [
    "### Dealing with null values"
   ]
  },
  {
   "cell_type": "code",
   "execution_count": 91,
   "metadata": {
    "scrolled": true
   },
   "outputs": [
    {
     "data": {
      "text/plain": [
       "Data as of                                     0\n",
       "Start Date                                     0\n",
       "End Date                                       0\n",
       "State                                          0\n",
       "Age group                                      0\n",
       "Race and Hispanic Origin Group                 0\n",
       "COVID-19 Deaths                             1730\n",
       "Total Deaths                                1684\n",
       "Pneumonia Deaths                            1923\n",
       "Pneumonia and COVID-19 Deaths               1505\n",
       "Influenza Deaths                            1229\n",
       "Pneumonia, Influenza, or COVID-19 Deaths    1998\n",
       "Data As Of                                     0\n",
       "Start Date_conditions                          0\n",
       "End Date_conditions                            0\n",
       "Group                                          0\n",
       "Condition Group                                0\n",
       "Condition                                      0\n",
       "ICD10_codes                                    0\n",
       "COVID-19 Deaths_conditions                  1282\n",
       "State_Cat                                      0\n",
       "Age group_Cat                                  0\n",
       "Race and Hispanic Origin Group_Cat             0\n",
       "Condition Group_Cat                            0\n",
       "Condition_Cat                                  0\n",
       "dtype: int64"
      ]
     },
     "execution_count": 91,
     "metadata": {},
     "output_type": "execute_result"
    }
   ],
   "source": [
    "df_combine.isnull().sum()"
   ]
  },
  {
   "cell_type": "markdown",
   "metadata": {},
   "source": [
    "#### The summary of all features in combine dataframe"
   ]
  },
  {
   "cell_type": "code",
   "execution_count": 38,
   "metadata": {
    "scrolled": true
   },
   "outputs": [
    {
     "data": {
      "text/html": [
       "<div>\n",
       "<style scoped>\n",
       "    .dataframe tbody tr th:only-of-type {\n",
       "        vertical-align: middle;\n",
       "    }\n",
       "\n",
       "    .dataframe tbody tr th {\n",
       "        vertical-align: top;\n",
       "    }\n",
       "\n",
       "    .dataframe thead th {\n",
       "        text-align: right;\n",
       "    }\n",
       "</style>\n",
       "<table border=\"1\" class=\"dataframe\">\n",
       "  <thead>\n",
       "    <tr style=\"text-align: right;\">\n",
       "      <th></th>\n",
       "      <th>count</th>\n",
       "      <th>unique</th>\n",
       "      <th>top</th>\n",
       "      <th>freq</th>\n",
       "      <th>mean</th>\n",
       "      <th>std</th>\n",
       "      <th>min</th>\n",
       "      <th>25%</th>\n",
       "      <th>50%</th>\n",
       "      <th>75%</th>\n",
       "      <th>max</th>\n",
       "    </tr>\n",
       "  </thead>\n",
       "  <tbody>\n",
       "    <tr>\n",
       "      <th>Data as of</th>\n",
       "      <td>6489</td>\n",
       "      <td>1</td>\n",
       "      <td>2021-04-07T00:00:00</td>\n",
       "      <td>6489</td>\n",
       "      <td>NaN</td>\n",
       "      <td>NaN</td>\n",
       "      <td>NaN</td>\n",
       "      <td>NaN</td>\n",
       "      <td>NaN</td>\n",
       "      <td>NaN</td>\n",
       "      <td>NaN</td>\n",
       "    </tr>\n",
       "    <tr>\n",
       "      <th>Start Date</th>\n",
       "      <td>6489</td>\n",
       "      <td>1</td>\n",
       "      <td>2020-01-01T00:00:00</td>\n",
       "      <td>6489</td>\n",
       "      <td>NaN</td>\n",
       "      <td>NaN</td>\n",
       "      <td>NaN</td>\n",
       "      <td>NaN</td>\n",
       "      <td>NaN</td>\n",
       "      <td>NaN</td>\n",
       "      <td>NaN</td>\n",
       "    </tr>\n",
       "    <tr>\n",
       "      <th>End Date</th>\n",
       "      <td>6489</td>\n",
       "      <td>1</td>\n",
       "      <td>2021-04-03T00:00:00</td>\n",
       "      <td>6489</td>\n",
       "      <td>NaN</td>\n",
       "      <td>NaN</td>\n",
       "      <td>NaN</td>\n",
       "      <td>NaN</td>\n",
       "      <td>NaN</td>\n",
       "      <td>NaN</td>\n",
       "      <td>NaN</td>\n",
       "    </tr>\n",
       "    <tr>\n",
       "      <th>State</th>\n",
       "      <td>6489</td>\n",
       "      <td>54</td>\n",
       "      <td>United States</td>\n",
       "      <td>129</td>\n",
       "      <td>NaN</td>\n",
       "      <td>NaN</td>\n",
       "      <td>NaN</td>\n",
       "      <td>NaN</td>\n",
       "      <td>NaN</td>\n",
       "      <td>NaN</td>\n",
       "      <td>NaN</td>\n",
       "    </tr>\n",
       "    <tr>\n",
       "      <th>Age group</th>\n",
       "      <td>6489</td>\n",
       "      <td>16</td>\n",
       "      <td>25-34 years</td>\n",
       "      <td>432</td>\n",
       "      <td>NaN</td>\n",
       "      <td>NaN</td>\n",
       "      <td>NaN</td>\n",
       "      <td>NaN</td>\n",
       "      <td>NaN</td>\n",
       "      <td>NaN</td>\n",
       "      <td>NaN</td>\n",
       "    </tr>\n",
       "    <tr>\n",
       "      <th>Race and Hispanic Origin Group</th>\n",
       "      <td>6489</td>\n",
       "      <td>9</td>\n",
       "      <td>Non-Hispanic American Indian or Alaska Native</td>\n",
       "      <td>811</td>\n",
       "      <td>NaN</td>\n",
       "      <td>NaN</td>\n",
       "      <td>NaN</td>\n",
       "      <td>NaN</td>\n",
       "      <td>NaN</td>\n",
       "      <td>NaN</td>\n",
       "      <td>NaN</td>\n",
       "    </tr>\n",
       "    <tr>\n",
       "      <th>COVID-19 Deaths</th>\n",
       "      <td>4759</td>\n",
       "      <td>NaN</td>\n",
       "      <td>NaN</td>\n",
       "      <td>NaN</td>\n",
       "      <td>497.385</td>\n",
       "      <td>9756.12</td>\n",
       "      <td>0</td>\n",
       "      <td>0</td>\n",
       "      <td>0</td>\n",
       "      <td>32</td>\n",
       "      <td>539723</td>\n",
       "    </tr>\n",
       "    <tr>\n",
       "      <th>Total Deaths</th>\n",
       "      <td>4805</td>\n",
       "      <td>NaN</td>\n",
       "      <td>NaN</td>\n",
       "      <td>NaN</td>\n",
       "      <td>3914.09</td>\n",
       "      <td>78444.3</td>\n",
       "      <td>0</td>\n",
       "      <td>14</td>\n",
       "      <td>58</td>\n",
       "      <td>406</td>\n",
       "      <td>4.16012e+06</td>\n",
       "    </tr>\n",
       "    <tr>\n",
       "      <th>Pneumonia Deaths</th>\n",
       "      <td>4566</td>\n",
       "      <td>NaN</td>\n",
       "      <td>NaN</td>\n",
       "      <td>NaN</td>\n",
       "      <td>450.758</td>\n",
       "      <td>8710.02</td>\n",
       "      <td>0</td>\n",
       "      <td>0</td>\n",
       "      <td>0</td>\n",
       "      <td>32</td>\n",
       "      <td>466386</td>\n",
       "    </tr>\n",
       "    <tr>\n",
       "      <th>Pneumonia and COVID-19 Deaths</th>\n",
       "      <td>4984</td>\n",
       "      <td>NaN</td>\n",
       "      <td>NaN</td>\n",
       "      <td>NaN</td>\n",
       "      <td>232.546</td>\n",
       "      <td>4581.34</td>\n",
       "      <td>0</td>\n",
       "      <td>0</td>\n",
       "      <td>0</td>\n",
       "      <td>13</td>\n",
       "      <td>263173</td>\n",
       "    </tr>\n",
       "    <tr>\n",
       "      <th>Influenza Deaths</th>\n",
       "      <td>5260</td>\n",
       "      <td>NaN</td>\n",
       "      <td>NaN</td>\n",
       "      <td>NaN</td>\n",
       "      <td>7.57186</td>\n",
       "      <td>157.851</td>\n",
       "      <td>0</td>\n",
       "      <td>0</td>\n",
       "      <td>0</td>\n",
       "      <td>0</td>\n",
       "      <td>9031</td>\n",
       "    </tr>\n",
       "    <tr>\n",
       "      <th>Pneumonia, Influenza, or COVID-19 Deaths</th>\n",
       "      <td>4491</td>\n",
       "      <td>NaN</td>\n",
       "      <td>NaN</td>\n",
       "      <td>NaN</td>\n",
       "      <td>735.572</td>\n",
       "      <td>14156.9</td>\n",
       "      <td>0</td>\n",
       "      <td>0</td>\n",
       "      <td>0</td>\n",
       "      <td>55</td>\n",
       "      <td>750721</td>\n",
       "    </tr>\n",
       "    <tr>\n",
       "      <th>Data As Of</th>\n",
       "      <td>6489</td>\n",
       "      <td>1</td>\n",
       "      <td>2021-04-04T00:00:00</td>\n",
       "      <td>6489</td>\n",
       "      <td>NaN</td>\n",
       "      <td>NaN</td>\n",
       "      <td>NaN</td>\n",
       "      <td>NaN</td>\n",
       "      <td>NaN</td>\n",
       "      <td>NaN</td>\n",
       "      <td>NaN</td>\n",
       "    </tr>\n",
       "    <tr>\n",
       "      <th>Start Date_conditions</th>\n",
       "      <td>6489</td>\n",
       "      <td>1</td>\n",
       "      <td>2020-01-01T00:00:00</td>\n",
       "      <td>6489</td>\n",
       "      <td>NaN</td>\n",
       "      <td>NaN</td>\n",
       "      <td>NaN</td>\n",
       "      <td>NaN</td>\n",
       "      <td>NaN</td>\n",
       "      <td>NaN</td>\n",
       "      <td>NaN</td>\n",
       "    </tr>\n",
       "    <tr>\n",
       "      <th>End Date_conditions</th>\n",
       "      <td>6489</td>\n",
       "      <td>1</td>\n",
       "      <td>2021-04-03T00:00:00</td>\n",
       "      <td>6489</td>\n",
       "      <td>NaN</td>\n",
       "      <td>NaN</td>\n",
       "      <td>NaN</td>\n",
       "      <td>NaN</td>\n",
       "      <td>NaN</td>\n",
       "      <td>NaN</td>\n",
       "      <td>NaN</td>\n",
       "    </tr>\n",
       "    <tr>\n",
       "      <th>Group</th>\n",
       "      <td>6489</td>\n",
       "      <td>1</td>\n",
       "      <td>By Total</td>\n",
       "      <td>6489</td>\n",
       "      <td>NaN</td>\n",
       "      <td>NaN</td>\n",
       "      <td>NaN</td>\n",
       "      <td>NaN</td>\n",
       "      <td>NaN</td>\n",
       "      <td>NaN</td>\n",
       "      <td>NaN</td>\n",
       "    </tr>\n",
       "    <tr>\n",
       "      <th>Condition Group</th>\n",
       "      <td>6489</td>\n",
       "      <td>12</td>\n",
       "      <td>Circulatory diseases</td>\n",
       "      <td>1960</td>\n",
       "      <td>NaN</td>\n",
       "      <td>NaN</td>\n",
       "      <td>NaN</td>\n",
       "      <td>NaN</td>\n",
       "      <td>NaN</td>\n",
       "      <td>NaN</td>\n",
       "      <td>NaN</td>\n",
       "    </tr>\n",
       "    <tr>\n",
       "      <th>Condition</th>\n",
       "      <td>6489</td>\n",
       "      <td>23</td>\n",
       "      <td>Influenza and pneumonia</td>\n",
       "      <td>290</td>\n",
       "      <td>NaN</td>\n",
       "      <td>NaN</td>\n",
       "      <td>NaN</td>\n",
       "      <td>NaN</td>\n",
       "      <td>NaN</td>\n",
       "      <td>NaN</td>\n",
       "      <td>NaN</td>\n",
       "    </tr>\n",
       "    <tr>\n",
       "      <th>ICD10_codes</th>\n",
       "      <td>6489</td>\n",
       "      <td>23</td>\n",
       "      <td>J40-J47</td>\n",
       "      <td>290</td>\n",
       "      <td>NaN</td>\n",
       "      <td>NaN</td>\n",
       "      <td>NaN</td>\n",
       "      <td>NaN</td>\n",
       "      <td>NaN</td>\n",
       "      <td>NaN</td>\n",
       "      <td>NaN</td>\n",
       "    </tr>\n",
       "    <tr>\n",
       "      <th>COVID-19 Deaths_conditions</th>\n",
       "      <td>5207</td>\n",
       "      <td>NaN</td>\n",
       "      <td>NaN</td>\n",
       "      <td>NaN</td>\n",
       "      <td>1188.73</td>\n",
       "      <td>10728.3</td>\n",
       "      <td>0</td>\n",
       "      <td>0</td>\n",
       "      <td>63</td>\n",
       "      <td>308</td>\n",
       "      <td>536793</td>\n",
       "    </tr>\n",
       "    <tr>\n",
       "      <th>State_Cat</th>\n",
       "      <td>6489</td>\n",
       "      <td>NaN</td>\n",
       "      <td>NaN</td>\n",
       "      <td>NaN</td>\n",
       "      <td>26.527</td>\n",
       "      <td>15.5931</td>\n",
       "      <td>0</td>\n",
       "      <td>13</td>\n",
       "      <td>27</td>\n",
       "      <td>40</td>\n",
       "      <td>53</td>\n",
       "    </tr>\n",
       "    <tr>\n",
       "      <th>Age group_Cat</th>\n",
       "      <td>6489</td>\n",
       "      <td>NaN</td>\n",
       "      <td>NaN</td>\n",
       "      <td>NaN</td>\n",
       "      <td>7.07628</td>\n",
       "      <td>4.43898</td>\n",
       "      <td>0</td>\n",
       "      <td>3</td>\n",
       "      <td>7</td>\n",
       "      <td>11</td>\n",
       "      <td>15</td>\n",
       "    </tr>\n",
       "    <tr>\n",
       "      <th>Race and Hispanic Origin Group_Cat</th>\n",
       "      <td>6489</td>\n",
       "      <td>NaN</td>\n",
       "      <td>NaN</td>\n",
       "      <td>NaN</td>\n",
       "      <td>3.62552</td>\n",
       "      <td>2.49722</td>\n",
       "      <td>0</td>\n",
       "      <td>2</td>\n",
       "      <td>4</td>\n",
       "      <td>6</td>\n",
       "      <td>8</td>\n",
       "    </tr>\n",
       "    <tr>\n",
       "      <th>Condition Group_Cat</th>\n",
       "      <td>6489</td>\n",
       "      <td>NaN</td>\n",
       "      <td>NaN</td>\n",
       "      <td>NaN</td>\n",
       "      <td>5.6343</td>\n",
       "      <td>3.24154</td>\n",
       "      <td>0</td>\n",
       "      <td>3</td>\n",
       "      <td>5</td>\n",
       "      <td>9</td>\n",
       "      <td>11</td>\n",
       "    </tr>\n",
       "    <tr>\n",
       "      <th>Condition_Cat</th>\n",
       "      <td>6489</td>\n",
       "      <td>NaN</td>\n",
       "      <td>NaN</td>\n",
       "      <td>NaN</td>\n",
       "      <td>11.0018</td>\n",
       "      <td>6.64073</td>\n",
       "      <td>0</td>\n",
       "      <td>5</td>\n",
       "      <td>11</td>\n",
       "      <td>17</td>\n",
       "      <td>22</td>\n",
       "    </tr>\n",
       "  </tbody>\n",
       "</table>\n",
       "</div>"
      ],
      "text/plain": [
       "                                         count unique  \\\n",
       "Data as of                                6489      1   \n",
       "Start Date                                6489      1   \n",
       "End Date                                  6489      1   \n",
       "State                                     6489     54   \n",
       "Age group                                 6489     16   \n",
       "Race and Hispanic Origin Group            6489      9   \n",
       "COVID-19 Deaths                           4759    NaN   \n",
       "Total Deaths                              4805    NaN   \n",
       "Pneumonia Deaths                          4566    NaN   \n",
       "Pneumonia and COVID-19 Deaths             4984    NaN   \n",
       "Influenza Deaths                          5260    NaN   \n",
       "Pneumonia, Influenza, or COVID-19 Deaths  4491    NaN   \n",
       "Data As Of                                6489      1   \n",
       "Start Date_conditions                     6489      1   \n",
       "End Date_conditions                       6489      1   \n",
       "Group                                     6489      1   \n",
       "Condition Group                           6489     12   \n",
       "Condition                                 6489     23   \n",
       "ICD10_codes                               6489     23   \n",
       "COVID-19 Deaths_conditions                5207    NaN   \n",
       "State_Cat                                 6489    NaN   \n",
       "Age group_Cat                             6489    NaN   \n",
       "Race and Hispanic Origin Group_Cat        6489    NaN   \n",
       "Condition Group_Cat                       6489    NaN   \n",
       "Condition_Cat                             6489    NaN   \n",
       "\n",
       "                                                                                    top  \\\n",
       "Data as of                                                          2021-04-07T00:00:00   \n",
       "Start Date                                                          2020-01-01T00:00:00   \n",
       "End Date                                                            2021-04-03T00:00:00   \n",
       "State                                                                     United States   \n",
       "Age group                                                                   25-34 years   \n",
       "Race and Hispanic Origin Group            Non-Hispanic American Indian or Alaska Native   \n",
       "COVID-19 Deaths                                                                     NaN   \n",
       "Total Deaths                                                                        NaN   \n",
       "Pneumonia Deaths                                                                    NaN   \n",
       "Pneumonia and COVID-19 Deaths                                                       NaN   \n",
       "Influenza Deaths                                                                    NaN   \n",
       "Pneumonia, Influenza, or COVID-19 Deaths                                            NaN   \n",
       "Data As Of                                                          2021-04-04T00:00:00   \n",
       "Start Date_conditions                                               2020-01-01T00:00:00   \n",
       "End Date_conditions                                                 2021-04-03T00:00:00   \n",
       "Group                                                                          By Total   \n",
       "Condition Group                                                    Circulatory diseases   \n",
       "Condition                                                       Influenza and pneumonia   \n",
       "ICD10_codes                                                                     J40-J47   \n",
       "COVID-19 Deaths_conditions                                                          NaN   \n",
       "State_Cat                                                                           NaN   \n",
       "Age group_Cat                                                                       NaN   \n",
       "Race and Hispanic Origin Group_Cat                                                  NaN   \n",
       "Condition Group_Cat                                                                 NaN   \n",
       "Condition_Cat                                                                       NaN   \n",
       "\n",
       "                                          freq     mean      std  min  25%  \\\n",
       "Data as of                                6489      NaN      NaN  NaN  NaN   \n",
       "Start Date                                6489      NaN      NaN  NaN  NaN   \n",
       "End Date                                  6489      NaN      NaN  NaN  NaN   \n",
       "State                                      129      NaN      NaN  NaN  NaN   \n",
       "Age group                                  432      NaN      NaN  NaN  NaN   \n",
       "Race and Hispanic Origin Group             811      NaN      NaN  NaN  NaN   \n",
       "COVID-19 Deaths                            NaN  497.385  9756.12    0    0   \n",
       "Total Deaths                               NaN  3914.09  78444.3    0   14   \n",
       "Pneumonia Deaths                           NaN  450.758  8710.02    0    0   \n",
       "Pneumonia and COVID-19 Deaths              NaN  232.546  4581.34    0    0   \n",
       "Influenza Deaths                           NaN  7.57186  157.851    0    0   \n",
       "Pneumonia, Influenza, or COVID-19 Deaths   NaN  735.572  14156.9    0    0   \n",
       "Data As Of                                6489      NaN      NaN  NaN  NaN   \n",
       "Start Date_conditions                     6489      NaN      NaN  NaN  NaN   \n",
       "End Date_conditions                       6489      NaN      NaN  NaN  NaN   \n",
       "Group                                     6489      NaN      NaN  NaN  NaN   \n",
       "Condition Group                           1960      NaN      NaN  NaN  NaN   \n",
       "Condition                                  290      NaN      NaN  NaN  NaN   \n",
       "ICD10_codes                                290      NaN      NaN  NaN  NaN   \n",
       "COVID-19 Deaths_conditions                 NaN  1188.73  10728.3    0    0   \n",
       "State_Cat                                  NaN   26.527  15.5931    0   13   \n",
       "Age group_Cat                              NaN  7.07628  4.43898    0    3   \n",
       "Race and Hispanic Origin Group_Cat         NaN  3.62552  2.49722    0    2   \n",
       "Condition Group_Cat                        NaN   5.6343  3.24154    0    3   \n",
       "Condition_Cat                              NaN  11.0018  6.64073    0    5   \n",
       "\n",
       "                                          50%  75%          max  \n",
       "Data as of                                NaN  NaN          NaN  \n",
       "Start Date                                NaN  NaN          NaN  \n",
       "End Date                                  NaN  NaN          NaN  \n",
       "State                                     NaN  NaN          NaN  \n",
       "Age group                                 NaN  NaN          NaN  \n",
       "Race and Hispanic Origin Group            NaN  NaN          NaN  \n",
       "COVID-19 Deaths                             0   32       539723  \n",
       "Total Deaths                               58  406  4.16012e+06  \n",
       "Pneumonia Deaths                            0   32       466386  \n",
       "Pneumonia and COVID-19 Deaths               0   13       263173  \n",
       "Influenza Deaths                            0    0         9031  \n",
       "Pneumonia, Influenza, or COVID-19 Deaths    0   55       750721  \n",
       "Data As Of                                NaN  NaN          NaN  \n",
       "Start Date_conditions                     NaN  NaN          NaN  \n",
       "End Date_conditions                       NaN  NaN          NaN  \n",
       "Group                                     NaN  NaN          NaN  \n",
       "Condition Group                           NaN  NaN          NaN  \n",
       "Condition                                 NaN  NaN          NaN  \n",
       "ICD10_codes                               NaN  NaN          NaN  \n",
       "COVID-19 Deaths_conditions                 63  308       536793  \n",
       "State_Cat                                  27   40           53  \n",
       "Age group_Cat                               7   11           15  \n",
       "Race and Hispanic Origin Group_Cat          4    6            8  \n",
       "Condition Group_Cat                         5    9           11  \n",
       "Condition_Cat                              11   17           22  "
      ]
     },
     "execution_count": 38,
     "metadata": {},
     "output_type": "execute_result"
    }
   ],
   "source": [
    "pd.set_option('display.max_rows', df_combine.shape[0]+1)\n",
    "df_combine.describe(include = 'all').transpose()\n"
   ]
  },
  {
   "cell_type": "markdown",
   "metadata": {},
   "source": [
    "The 'ICD10_codes' are just code does not depict any useful information so we dropped them also"
   ]
  },
  {
   "cell_type": "code",
   "execution_count": 39,
   "metadata": {},
   "outputs": [],
   "source": [
    "to_drop= ['Data as of', 'Start Date', 'End Date', 'Data As Of', 'Start Date_conditions', 'End Date_conditions', 'Group', 'ICD10_codes']"
   ]
  },
  {
   "cell_type": "code",
   "execution_count": 40,
   "metadata": {
    "scrolled": true
   },
   "outputs": [
    {
     "data": {
      "text/html": [
       "<div>\n",
       "<style scoped>\n",
       "    .dataframe tbody tr th:only-of-type {\n",
       "        vertical-align: middle;\n",
       "    }\n",
       "\n",
       "    .dataframe tbody tr th {\n",
       "        vertical-align: top;\n",
       "    }\n",
       "\n",
       "    .dataframe thead th {\n",
       "        text-align: right;\n",
       "    }\n",
       "</style>\n",
       "<table border=\"1\" class=\"dataframe\">\n",
       "  <thead>\n",
       "    <tr style=\"text-align: right;\">\n",
       "      <th></th>\n",
       "      <th>State</th>\n",
       "      <th>Age group</th>\n",
       "      <th>Race and Hispanic Origin Group</th>\n",
       "      <th>COVID-19 Deaths</th>\n",
       "      <th>Total Deaths</th>\n",
       "      <th>Pneumonia Deaths</th>\n",
       "      <th>Pneumonia and COVID-19 Deaths</th>\n",
       "      <th>Influenza Deaths</th>\n",
       "      <th>Pneumonia, Influenza, or COVID-19 Deaths</th>\n",
       "      <th>Condition Group</th>\n",
       "      <th>Condition</th>\n",
       "      <th>COVID-19 Deaths_conditions</th>\n",
       "      <th>State_Cat</th>\n",
       "      <th>Age group_Cat</th>\n",
       "      <th>Race and Hispanic Origin Group_Cat</th>\n",
       "      <th>Condition Group_Cat</th>\n",
       "      <th>Condition_Cat</th>\n",
       "    </tr>\n",
       "  </thead>\n",
       "  <tbody>\n",
       "    <tr>\n",
       "      <th>0</th>\n",
       "      <td>United States</td>\n",
       "      <td>All Ages</td>\n",
       "      <td>Total Deaths</td>\n",
       "      <td>539723.0</td>\n",
       "      <td>4160118.0</td>\n",
       "      <td>466386.0</td>\n",
       "      <td>263173.0</td>\n",
       "      <td>9031.0</td>\n",
       "      <td>750721.0</td>\n",
       "      <td>Respiratory diseases</td>\n",
       "      <td>Influenza and pneumonia</td>\n",
       "      <td>350.0</td>\n",
       "      <td>46</td>\n",
       "      <td>14</td>\n",
       "      <td>7</td>\n",
       "      <td>9</td>\n",
       "      <td>11</td>\n",
       "    </tr>\n",
       "    <tr>\n",
       "      <th>1</th>\n",
       "      <td>United States</td>\n",
       "      <td>All Ages</td>\n",
       "      <td>Non-Hispanic White</td>\n",
       "      <td>328239.0</td>\n",
       "      <td>3047347.0</td>\n",
       "      <td>301454.0</td>\n",
       "      <td>149830.0</td>\n",
       "      <td>6038.0</td>\n",
       "      <td>485501.0</td>\n",
       "      <td>Respiratory diseases</td>\n",
       "      <td>Influenza and pneumonia</td>\n",
       "      <td>1603.0</td>\n",
       "      <td>46</td>\n",
       "      <td>14</td>\n",
       "      <td>6</td>\n",
       "      <td>9</td>\n",
       "      <td>11</td>\n",
       "    </tr>\n",
       "    <tr>\n",
       "      <th>2</th>\n",
       "      <td>United States</td>\n",
       "      <td>Under 1 year</td>\n",
       "      <td>Non-Hispanic White</td>\n",
       "      <td>14.0</td>\n",
       "      <td>9139.0</td>\n",
       "      <td>98.0</td>\n",
       "      <td>1.0</td>\n",
       "      <td>10.0</td>\n",
       "      <td>121.0</td>\n",
       "      <td>Respiratory diseases</td>\n",
       "      <td>Influenza and pneumonia</td>\n",
       "      <td>4314.0</td>\n",
       "      <td>46</td>\n",
       "      <td>15</td>\n",
       "      <td>6</td>\n",
       "      <td>9</td>\n",
       "      <td>11</td>\n",
       "    </tr>\n",
       "    <tr>\n",
       "      <th>3</th>\n",
       "      <td>United States</td>\n",
       "      <td>0-17 years</td>\n",
       "      <td>Non-Hispanic White</td>\n",
       "      <td>72.0</td>\n",
       "      <td>16860.0</td>\n",
       "      <td>287.0</td>\n",
       "      <td>14.0</td>\n",
       "      <td>84.0</td>\n",
       "      <td>429.0</td>\n",
       "      <td>Respiratory diseases</td>\n",
       "      <td>Influenza and pneumonia</td>\n",
       "      <td>12922.0</td>\n",
       "      <td>46</td>\n",
       "      <td>0</td>\n",
       "      <td>6</td>\n",
       "      <td>9</td>\n",
       "      <td>11</td>\n",
       "    </tr>\n",
       "    <tr>\n",
       "      <th>4</th>\n",
       "      <td>United States</td>\n",
       "      <td>1-4 years</td>\n",
       "      <td>Non-Hispanic White</td>\n",
       "      <td>12.0</td>\n",
       "      <td>1802.0</td>\n",
       "      <td>59.0</td>\n",
       "      <td>2.0</td>\n",
       "      <td>25.0</td>\n",
       "      <td>94.0</td>\n",
       "      <td>Respiratory diseases</td>\n",
       "      <td>Influenza and pneumonia</td>\n",
       "      <td>33277.0</td>\n",
       "      <td>46</td>\n",
       "      <td>1</td>\n",
       "      <td>6</td>\n",
       "      <td>9</td>\n",
       "      <td>11</td>\n",
       "    </tr>\n",
       "  </tbody>\n",
       "</table>\n",
       "</div>"
      ],
      "text/plain": [
       "           State     Age group Race and Hispanic Origin Group  \\\n",
       "0  United States      All Ages                   Total Deaths   \n",
       "1  United States      All Ages             Non-Hispanic White   \n",
       "2  United States  Under 1 year             Non-Hispanic White   \n",
       "3  United States    0-17 years             Non-Hispanic White   \n",
       "4  United States     1-4 years             Non-Hispanic White   \n",
       "\n",
       "   COVID-19 Deaths  Total Deaths  Pneumonia Deaths  \\\n",
       "0         539723.0     4160118.0          466386.0   \n",
       "1         328239.0     3047347.0          301454.0   \n",
       "2             14.0        9139.0              98.0   \n",
       "3             72.0       16860.0             287.0   \n",
       "4             12.0        1802.0              59.0   \n",
       "\n",
       "   Pneumonia and COVID-19 Deaths  Influenza Deaths  \\\n",
       "0                       263173.0            9031.0   \n",
       "1                       149830.0            6038.0   \n",
       "2                            1.0              10.0   \n",
       "3                           14.0              84.0   \n",
       "4                            2.0              25.0   \n",
       "\n",
       "   Pneumonia, Influenza, or COVID-19 Deaths       Condition Group  \\\n",
       "0                                  750721.0  Respiratory diseases   \n",
       "1                                  485501.0  Respiratory diseases   \n",
       "2                                     121.0  Respiratory diseases   \n",
       "3                                     429.0  Respiratory diseases   \n",
       "4                                      94.0  Respiratory diseases   \n",
       "\n",
       "                 Condition  COVID-19 Deaths_conditions  State_Cat  \\\n",
       "0  Influenza and pneumonia                       350.0         46   \n",
       "1  Influenza and pneumonia                      1603.0         46   \n",
       "2  Influenza and pneumonia                      4314.0         46   \n",
       "3  Influenza and pneumonia                     12922.0         46   \n",
       "4  Influenza and pneumonia                     33277.0         46   \n",
       "\n",
       "   Age group_Cat  Race and Hispanic Origin Group_Cat  Condition Group_Cat  \\\n",
       "0             14                                   7                    9   \n",
       "1             14                                   6                    9   \n",
       "2             15                                   6                    9   \n",
       "3              0                                   6                    9   \n",
       "4              1                                   6                    9   \n",
       "\n",
       "   Condition_Cat  \n",
       "0             11  \n",
       "1             11  \n",
       "2             11  \n",
       "3             11  \n",
       "4             11  "
      ]
     },
     "execution_count": 40,
     "metadata": {},
     "output_type": "execute_result"
    }
   ],
   "source": [
    "df_combine.drop(columns=to_drop, inplace=True)\n",
    "df_combine.head()"
   ]
  },
  {
   "cell_type": "code",
   "execution_count": 41,
   "metadata": {},
   "outputs": [
    {
     "data": {
      "text/plain": [
       "Index(['State', 'Age group', 'Race and Hispanic Origin Group',\n",
       "       'COVID-19 Deaths', 'Total Deaths', 'Pneumonia Deaths',\n",
       "       'Pneumonia and COVID-19 Deaths', 'Influenza Deaths',\n",
       "       'Pneumonia, Influenza, or COVID-19 Deaths', 'Condition Group',\n",
       "       'Condition', 'COVID-19 Deaths_conditions', 'State_Cat', 'Age group_Cat',\n",
       "       'Race and Hispanic Origin Group_Cat', 'Condition Group_Cat',\n",
       "       'Condition_Cat'],\n",
       "      dtype='object')"
      ]
     },
     "execution_count": 41,
     "metadata": {},
     "output_type": "execute_result"
    }
   ],
   "source": [
    "df_combine.columns"
   ]
  },
  {
   "cell_type": "markdown",
   "metadata": {},
   "source": [
    "### Replace all NaN values in numeric columns with their mean"
   ]
  },
  {
   "cell_type": "code",
   "execution_count": 42,
   "metadata": {},
   "outputs": [],
   "source": [
    "for i in range(0,6):\n",
    "    mean = df_combine.iloc[:,3+i].mean()\n",
    "    df_combine.iloc[:,3+i].fillna(mean, inplace=True)"
   ]
  },
  {
   "cell_type": "code",
   "execution_count": 43,
   "metadata": {},
   "outputs": [],
   "source": [
    "mean = df_combine['COVID-19 Deaths_conditions'].mean()\n",
    "df_combine['COVID-19 Deaths_conditions'].fillna(mean, inplace=True)"
   ]
  },
  {
   "cell_type": "code",
   "execution_count": 44,
   "metadata": {},
   "outputs": [
    {
     "data": {
      "text/plain": [
       "State                                       0\n",
       "Age group                                   0\n",
       "Race and Hispanic Origin Group              0\n",
       "COVID-19 Deaths                             0\n",
       "Total Deaths                                0\n",
       "Pneumonia Deaths                            0\n",
       "Pneumonia and COVID-19 Deaths               0\n",
       "Influenza Deaths                            0\n",
       "Pneumonia, Influenza, or COVID-19 Deaths    0\n",
       "Condition Group                             0\n",
       "Condition                                   0\n",
       "COVID-19 Deaths_conditions                  0\n",
       "State_Cat                                   0\n",
       "Age group_Cat                               0\n",
       "Race and Hispanic Origin Group_Cat          0\n",
       "Condition Group_Cat                         0\n",
       "Condition_Cat                               0\n",
       "dtype: int64"
      ]
     },
     "execution_count": 44,
     "metadata": {},
     "output_type": "execute_result"
    }
   ],
   "source": [
    "df_combine.isnull().sum()"
   ]
  },
  {
   "cell_type": "code",
   "execution_count": 48,
   "metadata": {},
   "outputs": [],
   "source": [
    "# fig, ax = plt.subplots(figsize=(15, 10))\n",
    "# plt.subplot(3, 3, 1)\n",
    "# sns.distplot(df['COVID-19 Deaths'])\n",
    "# plt.subplot(3, 3, 2)\n",
    "# sns.distplot(df['Total Deaths'])\n",
    "# plt.subplot(3, 3, 3)\n",
    "# sns.distplot(df['Pneumonia Deaths'])\n",
    "# plt.subplot(3, 3, 4)\n",
    "# sns.distplot(df['Pneumonia and COVID-19 Deaths'])\n",
    "# plt.subplot(3, 3, 5)\n",
    "# sns.distplot(df['Influenza Deaths'])\n",
    "# plt.subplot(3, 3, 6)\n",
    "# sns.distplot(df['Pneumonia, Influenza, or COVID-19 Deaths'])\n"
   ]
  },
  {
   "cell_type": "markdown",
   "metadata": {},
   "source": [
    "# Distribution Visualisation and Outliers dealing"
   ]
  },
  {
   "cell_type": "markdown",
   "metadata": {},
   "source": [
    "Before to proceed further we have rename few of the columns because some columns have whitespace and comma in their name which is not premitted by postgreSQL table naming format"
   ]
  },
  {
   "cell_type": "code",
   "execution_count": 45,
   "metadata": {},
   "outputs": [],
   "source": [
    "df_combine = df_combine.rename(columns = {'Age group': 'Age_group', 'Race and Hispanic Origin Group': 'Race_and_Hispanic_Origin_Group',\n",
    "                                         'COVID-19 Deaths': 'COVID_19_Deaths','Total Deaths':'Total_Deaths',\n",
    "                                         'Pneumonia Deaths':'Pneumonia_Deaths', 'Pneumonia and COVID-19 Deaths':'Pneumonia_and_COVID_19_Deaths',\n",
    "                                         'Influenza Deaths':'Influenza_Deaths', 'Pneumonia, Influenza, or COVID-19 Deaths':'Pneumonia_Influenza_or_COVID_19_Deaths',\n",
    "                                         'Condition Group':'Condition_Group', 'COVID-19 Deaths_conditions':'COVID_19_Deaths_conditions',\n",
    "                                         'Age group_Cat':'Age_group_Cat', 'Race and Hispanic Origin Group_Cat':'Race_and_Hispanic_Origin_Group_Cat',\n",
    "                                         'Condition Group_Cat':'Condition_Group_Cat'}, inplace = False)"
   ]
  },
  {
   "cell_type": "code",
   "execution_count": 46,
   "metadata": {},
   "outputs": [
    {
     "data": {
      "text/plain": [
       "6489"
      ]
     },
     "execution_count": 46,
     "metadata": {},
     "output_type": "execute_result"
    }
   ],
   "source": [
    "len(df_combine['Total_Deaths'])"
   ]
  },
  {
   "cell_type": "markdown",
   "metadata": {},
   "source": [
    "firstly we will try to explore some of the information with in the refined data including five number summuary"
   ]
  },
  {
   "cell_type": "code",
   "execution_count": 47,
   "metadata": {},
   "outputs": [
    {
     "data": {
      "text/html": [
       "<div>\n",
       "<style scoped>\n",
       "    .dataframe tbody tr th:only-of-type {\n",
       "        vertical-align: middle;\n",
       "    }\n",
       "\n",
       "    .dataframe tbody tr th {\n",
       "        vertical-align: top;\n",
       "    }\n",
       "\n",
       "    .dataframe thead th {\n",
       "        text-align: right;\n",
       "    }\n",
       "</style>\n",
       "<table border=\"1\" class=\"dataframe\">\n",
       "  <thead>\n",
       "    <tr style=\"text-align: right;\">\n",
       "      <th></th>\n",
       "      <th>count</th>\n",
       "      <th>unique</th>\n",
       "      <th>top</th>\n",
       "      <th>freq</th>\n",
       "      <th>mean</th>\n",
       "      <th>std</th>\n",
       "      <th>min</th>\n",
       "      <th>25%</th>\n",
       "      <th>50%</th>\n",
       "      <th>75%</th>\n",
       "      <th>max</th>\n",
       "    </tr>\n",
       "  </thead>\n",
       "  <tbody>\n",
       "    <tr>\n",
       "      <th>State</th>\n",
       "      <td>6489</td>\n",
       "      <td>54</td>\n",
       "      <td>United States</td>\n",
       "      <td>129</td>\n",
       "      <td>NaN</td>\n",
       "      <td>NaN</td>\n",
       "      <td>NaN</td>\n",
       "      <td>NaN</td>\n",
       "      <td>NaN</td>\n",
       "      <td>NaN</td>\n",
       "      <td>NaN</td>\n",
       "    </tr>\n",
       "    <tr>\n",
       "      <th>Age_group</th>\n",
       "      <td>6489</td>\n",
       "      <td>16</td>\n",
       "      <td>25-34 years</td>\n",
       "      <td>432</td>\n",
       "      <td>NaN</td>\n",
       "      <td>NaN</td>\n",
       "      <td>NaN</td>\n",
       "      <td>NaN</td>\n",
       "      <td>NaN</td>\n",
       "      <td>NaN</td>\n",
       "      <td>NaN</td>\n",
       "    </tr>\n",
       "    <tr>\n",
       "      <th>Race_and_Hispanic_Origin_Group</th>\n",
       "      <td>6489</td>\n",
       "      <td>9</td>\n",
       "      <td>Non-Hispanic American Indian or Alaska Native</td>\n",
       "      <td>811</td>\n",
       "      <td>NaN</td>\n",
       "      <td>NaN</td>\n",
       "      <td>NaN</td>\n",
       "      <td>NaN</td>\n",
       "      <td>NaN</td>\n",
       "      <td>NaN</td>\n",
       "      <td>NaN</td>\n",
       "    </tr>\n",
       "    <tr>\n",
       "      <th>COVID_19_Deaths</th>\n",
       "      <td>6489</td>\n",
       "      <td>NaN</td>\n",
       "      <td>NaN</td>\n",
       "      <td>NaN</td>\n",
       "      <td>497.385</td>\n",
       "      <td>8354.76</td>\n",
       "      <td>0</td>\n",
       "      <td>0</td>\n",
       "      <td>16</td>\n",
       "      <td>497.385</td>\n",
       "      <td>539723</td>\n",
       "    </tr>\n",
       "    <tr>\n",
       "      <th>Total_Deaths</th>\n",
       "      <td>6489</td>\n",
       "      <td>NaN</td>\n",
       "      <td>NaN</td>\n",
       "      <td>NaN</td>\n",
       "      <td>3914.09</td>\n",
       "      <td>67500.6</td>\n",
       "      <td>0</td>\n",
       "      <td>23</td>\n",
       "      <td>203</td>\n",
       "      <td>3914.09</td>\n",
       "      <td>4.16012e+06</td>\n",
       "    </tr>\n",
       "    <tr>\n",
       "      <th>Pneumonia_Deaths</th>\n",
       "      <td>6489</td>\n",
       "      <td>NaN</td>\n",
       "      <td>NaN</td>\n",
       "      <td>NaN</td>\n",
       "      <td>450.758</td>\n",
       "      <td>7306.07</td>\n",
       "      <td>0</td>\n",
       "      <td>0</td>\n",
       "      <td>22</td>\n",
       "      <td>450.758</td>\n",
       "      <td>466386</td>\n",
       "    </tr>\n",
       "    <tr>\n",
       "      <th>Pneumonia_and_COVID_19_Deaths</th>\n",
       "      <td>6489</td>\n",
       "      <td>NaN</td>\n",
       "      <td>NaN</td>\n",
       "      <td>NaN</td>\n",
       "      <td>232.546</td>\n",
       "      <td>4014.98</td>\n",
       "      <td>0</td>\n",
       "      <td>0</td>\n",
       "      <td>0</td>\n",
       "      <td>232.546</td>\n",
       "      <td>263173</td>\n",
       "    </tr>\n",
       "    <tr>\n",
       "      <th>Influenza_Deaths</th>\n",
       "      <td>6489</td>\n",
       "      <td>NaN</td>\n",
       "      <td>NaN</td>\n",
       "      <td>NaN</td>\n",
       "      <td>7.57186</td>\n",
       "      <td>142.116</td>\n",
       "      <td>0</td>\n",
       "      <td>0</td>\n",
       "      <td>0</td>\n",
       "      <td>7.57186</td>\n",
       "      <td>9031</td>\n",
       "    </tr>\n",
       "    <tr>\n",
       "      <th>Pneumonia_Influenza_or_COVID_19_Deaths</th>\n",
       "      <td>6489</td>\n",
       "      <td>NaN</td>\n",
       "      <td>NaN</td>\n",
       "      <td>NaN</td>\n",
       "      <td>735.572</td>\n",
       "      <td>11777</td>\n",
       "      <td>0</td>\n",
       "      <td>0</td>\n",
       "      <td>41</td>\n",
       "      <td>735.572</td>\n",
       "      <td>750721</td>\n",
       "    </tr>\n",
       "    <tr>\n",
       "      <th>Condition_Group</th>\n",
       "      <td>6489</td>\n",
       "      <td>12</td>\n",
       "      <td>Circulatory diseases</td>\n",
       "      <td>1960</td>\n",
       "      <td>NaN</td>\n",
       "      <td>NaN</td>\n",
       "      <td>NaN</td>\n",
       "      <td>NaN</td>\n",
       "      <td>NaN</td>\n",
       "      <td>NaN</td>\n",
       "      <td>NaN</td>\n",
       "    </tr>\n",
       "    <tr>\n",
       "      <th>Condition</th>\n",
       "      <td>6489</td>\n",
       "      <td>23</td>\n",
       "      <td>Influenza and pneumonia</td>\n",
       "      <td>290</td>\n",
       "      <td>NaN</td>\n",
       "      <td>NaN</td>\n",
       "      <td>NaN</td>\n",
       "      <td>NaN</td>\n",
       "      <td>NaN</td>\n",
       "      <td>NaN</td>\n",
       "      <td>NaN</td>\n",
       "    </tr>\n",
       "    <tr>\n",
       "      <th>COVID_19_Deaths_conditions</th>\n",
       "      <td>6489</td>\n",
       "      <td>NaN</td>\n",
       "      <td>NaN</td>\n",
       "      <td>NaN</td>\n",
       "      <td>1188.73</td>\n",
       "      <td>9610.07</td>\n",
       "      <td>0</td>\n",
       "      <td>15</td>\n",
       "      <td>140</td>\n",
       "      <td>1188.73</td>\n",
       "      <td>536793</td>\n",
       "    </tr>\n",
       "    <tr>\n",
       "      <th>State_Cat</th>\n",
       "      <td>6489</td>\n",
       "      <td>NaN</td>\n",
       "      <td>NaN</td>\n",
       "      <td>NaN</td>\n",
       "      <td>26.527</td>\n",
       "      <td>15.5931</td>\n",
       "      <td>0</td>\n",
       "      <td>13</td>\n",
       "      <td>27</td>\n",
       "      <td>40</td>\n",
       "      <td>53</td>\n",
       "    </tr>\n",
       "    <tr>\n",
       "      <th>Age_group_Cat</th>\n",
       "      <td>6489</td>\n",
       "      <td>NaN</td>\n",
       "      <td>NaN</td>\n",
       "      <td>NaN</td>\n",
       "      <td>7.07628</td>\n",
       "      <td>4.43898</td>\n",
       "      <td>0</td>\n",
       "      <td>3</td>\n",
       "      <td>7</td>\n",
       "      <td>11</td>\n",
       "      <td>15</td>\n",
       "    </tr>\n",
       "    <tr>\n",
       "      <th>Race_and_Hispanic_Origin_Group_Cat</th>\n",
       "      <td>6489</td>\n",
       "      <td>NaN</td>\n",
       "      <td>NaN</td>\n",
       "      <td>NaN</td>\n",
       "      <td>3.62552</td>\n",
       "      <td>2.49722</td>\n",
       "      <td>0</td>\n",
       "      <td>2</td>\n",
       "      <td>4</td>\n",
       "      <td>6</td>\n",
       "      <td>8</td>\n",
       "    </tr>\n",
       "    <tr>\n",
       "      <th>Condition_Group_Cat</th>\n",
       "      <td>6489</td>\n",
       "      <td>NaN</td>\n",
       "      <td>NaN</td>\n",
       "      <td>NaN</td>\n",
       "      <td>5.6343</td>\n",
       "      <td>3.24154</td>\n",
       "      <td>0</td>\n",
       "      <td>3</td>\n",
       "      <td>5</td>\n",
       "      <td>9</td>\n",
       "      <td>11</td>\n",
       "    </tr>\n",
       "    <tr>\n",
       "      <th>Condition_Cat</th>\n",
       "      <td>6489</td>\n",
       "      <td>NaN</td>\n",
       "      <td>NaN</td>\n",
       "      <td>NaN</td>\n",
       "      <td>11.0018</td>\n",
       "      <td>6.64073</td>\n",
       "      <td>0</td>\n",
       "      <td>5</td>\n",
       "      <td>11</td>\n",
       "      <td>17</td>\n",
       "      <td>22</td>\n",
       "    </tr>\n",
       "  </tbody>\n",
       "</table>\n",
       "</div>"
      ],
      "text/plain": [
       "                                       count unique  \\\n",
       "State                                   6489     54   \n",
       "Age_group                               6489     16   \n",
       "Race_and_Hispanic_Origin_Group          6489      9   \n",
       "COVID_19_Deaths                         6489    NaN   \n",
       "Total_Deaths                            6489    NaN   \n",
       "Pneumonia_Deaths                        6489    NaN   \n",
       "Pneumonia_and_COVID_19_Deaths           6489    NaN   \n",
       "Influenza_Deaths                        6489    NaN   \n",
       "Pneumonia_Influenza_or_COVID_19_Deaths  6489    NaN   \n",
       "Condition_Group                         6489     12   \n",
       "Condition                               6489     23   \n",
       "COVID_19_Deaths_conditions              6489    NaN   \n",
       "State_Cat                               6489    NaN   \n",
       "Age_group_Cat                           6489    NaN   \n",
       "Race_and_Hispanic_Origin_Group_Cat      6489    NaN   \n",
       "Condition_Group_Cat                     6489    NaN   \n",
       "Condition_Cat                           6489    NaN   \n",
       "\n",
       "                                                                                  top  \\\n",
       "State                                                                   United States   \n",
       "Age_group                                                                 25-34 years   \n",
       "Race_and_Hispanic_Origin_Group          Non-Hispanic American Indian or Alaska Native   \n",
       "COVID_19_Deaths                                                                   NaN   \n",
       "Total_Deaths                                                                      NaN   \n",
       "Pneumonia_Deaths                                                                  NaN   \n",
       "Pneumonia_and_COVID_19_Deaths                                                     NaN   \n",
       "Influenza_Deaths                                                                  NaN   \n",
       "Pneumonia_Influenza_or_COVID_19_Deaths                                            NaN   \n",
       "Condition_Group                                                  Circulatory diseases   \n",
       "Condition                                                     Influenza and pneumonia   \n",
       "COVID_19_Deaths_conditions                                                        NaN   \n",
       "State_Cat                                                                         NaN   \n",
       "Age_group_Cat                                                                     NaN   \n",
       "Race_and_Hispanic_Origin_Group_Cat                                                NaN   \n",
       "Condition_Group_Cat                                                               NaN   \n",
       "Condition_Cat                                                                     NaN   \n",
       "\n",
       "                                        freq     mean      std  min  25%  50%  \\\n",
       "State                                    129      NaN      NaN  NaN  NaN  NaN   \n",
       "Age_group                                432      NaN      NaN  NaN  NaN  NaN   \n",
       "Race_and_Hispanic_Origin_Group           811      NaN      NaN  NaN  NaN  NaN   \n",
       "COVID_19_Deaths                          NaN  497.385  8354.76    0    0   16   \n",
       "Total_Deaths                             NaN  3914.09  67500.6    0   23  203   \n",
       "Pneumonia_Deaths                         NaN  450.758  7306.07    0    0   22   \n",
       "Pneumonia_and_COVID_19_Deaths            NaN  232.546  4014.98    0    0    0   \n",
       "Influenza_Deaths                         NaN  7.57186  142.116    0    0    0   \n",
       "Pneumonia_Influenza_or_COVID_19_Deaths   NaN  735.572    11777    0    0   41   \n",
       "Condition_Group                         1960      NaN      NaN  NaN  NaN  NaN   \n",
       "Condition                                290      NaN      NaN  NaN  NaN  NaN   \n",
       "COVID_19_Deaths_conditions               NaN  1188.73  9610.07    0   15  140   \n",
       "State_Cat                                NaN   26.527  15.5931    0   13   27   \n",
       "Age_group_Cat                            NaN  7.07628  4.43898    0    3    7   \n",
       "Race_and_Hispanic_Origin_Group_Cat       NaN  3.62552  2.49722    0    2    4   \n",
       "Condition_Group_Cat                      NaN   5.6343  3.24154    0    3    5   \n",
       "Condition_Cat                            NaN  11.0018  6.64073    0    5   11   \n",
       "\n",
       "                                            75%          max  \n",
       "State                                       NaN          NaN  \n",
       "Age_group                                   NaN          NaN  \n",
       "Race_and_Hispanic_Origin_Group              NaN          NaN  \n",
       "COVID_19_Deaths                         497.385       539723  \n",
       "Total_Deaths                            3914.09  4.16012e+06  \n",
       "Pneumonia_Deaths                        450.758       466386  \n",
       "Pneumonia_and_COVID_19_Deaths           232.546       263173  \n",
       "Influenza_Deaths                        7.57186         9031  \n",
       "Pneumonia_Influenza_or_COVID_19_Deaths  735.572       750721  \n",
       "Condition_Group                             NaN          NaN  \n",
       "Condition                                   NaN          NaN  \n",
       "COVID_19_Deaths_conditions              1188.73       536793  \n",
       "State_Cat                                    40           53  \n",
       "Age_group_Cat                                11           15  \n",
       "Race_and_Hispanic_Origin_Group_Cat            6            8  \n",
       "Condition_Group_Cat                           9           11  \n",
       "Condition_Cat                                17           22  "
      ]
     },
     "execution_count": 47,
     "metadata": {},
     "output_type": "execute_result"
    }
   ],
   "source": [
    "pd.set_option('display.max_rows', df_combine.shape[0]+1)\n",
    "df_combine.describe(include = 'all').transpose()"
   ]
  },
  {
   "cell_type": "markdown",
   "metadata": {},
   "source": [
    "### I have selected 17 final columns from my initial 2 json data files.\n",
    "#### I will do distribution check, find any trend or correlation , and outliers dealing in this section"
   ]
  },
  {
   "cell_type": "code",
   "execution_count": 48,
   "metadata": {},
   "outputs": [
    {
     "data": {
      "image/png": "[encoded data removed]",
      "text/plain": [
       "<Figure size 432x288 with 1 Axes>"
      ]
     },
     "metadata": {
      "needs_background": "light"
     },
     "output_type": "display_data"
    }
   ],
   "source": [
    "### See the distribution of COVID-19 Deaths\n",
    "\n",
    "hist_price=df_combine[\"COVID_19_Deaths\"].hist()\n",
    "### We observe that most of the values are around 100,000"
   ]
  },
  {
   "cell_type": "code",
   "execution_count": 49,
   "metadata": {},
   "outputs": [
    {
     "data": {
      "image/png": "[encoded data removed]",
      "text/plain": [
       "<Figure size 432x288 with 1 Axes>"
      ]
     },
     "metadata": {
      "needs_background": "light"
     },
     "output_type": "display_data"
    }
   ],
   "source": [
    "### Lets plot histogram for Covid 19 Deaths less than 100,000\n",
    "\n",
    "hist_covid1=df_combine[\"COVID_19_Deaths\"][df_combine[\"COVID_19_Deaths\"]<100000].hist()"
   ]
  },
  {
   "cell_type": "markdown",
   "metadata": {},
   "source": [
    "How many Covid Deaths more than 100,000?"
   ]
  },
  {
   "cell_type": "code",
   "execution_count": 50,
   "metadata": {},
   "outputs": [
    {
     "data": {
      "text/plain": [
       "(4, 17)"
      ]
     },
     "execution_count": 50,
     "metadata": {},
     "output_type": "execute_result"
    }
   ],
   "source": [
    "df_combine[df_combine[\"COVID_19_Deaths\"]>100000].shape"
   ]
  },
  {
   "cell_type": "markdown",
   "metadata": {},
   "source": [
    "we can see that only 4 listings have Covid deaths > 100,000. These are maybe outliers but they can be valid values as well because some places may have large values of covid deaths. so we will not remove them."
   ]
  },
  {
   "cell_type": "code",
   "execution_count": null,
   "metadata": {},
   "outputs": [],
   "source": []
  },
  {
   "cell_type": "code",
   "execution_count": 51,
   "metadata": {},
   "outputs": [
    {
     "data": {
      "text/plain": [
       "count     6485.000000\n",
       "mean       328.687624\n",
       "std       2092.437176\n",
       "min          0.000000\n",
       "25%          0.000000\n",
       "50%         16.000000\n",
       "75%        497.384535\n",
       "max      99454.000000\n",
       "Name: COVID_19_Deaths, dtype: float64"
      ]
     },
     "execution_count": 51,
     "metadata": {},
     "output_type": "execute_result"
    }
   ],
   "source": [
    "### We use 100,000 as threshold for covid deaths\n",
    "\n",
    "df_combine=df_combine[df_combine[\"COVID_19_Deaths\"]<100000]\n",
    "\n",
    "### Looking at the Covid deaths column again\n",
    "df_combine[\"COVID_19_Deaths\"].describe()"
   ]
  },
  {
   "cell_type": "code",
   "execution_count": null,
   "metadata": {},
   "outputs": [],
   "source": []
  },
  {
   "cell_type": "markdown",
   "metadata": {},
   "source": [
    "### Now for Total_Deaths column "
   ]
  },
  {
   "cell_type": "code",
   "execution_count": 52,
   "metadata": {},
   "outputs": [
    {
     "data": {
      "image/png": "[encoded data removed]",
      "text/plain": [
       "<Figure size 432x288 with 1 Axes>"
      ]
     },
     "metadata": {
      "needs_background": "light"
     },
     "output_type": "display_data"
    }
   ],
   "source": [
    "### See the distribution of Total_Deaths\n",
    "\n",
    "\n",
    "hist_price=df_combine[\"Total_Deaths\"].hist()\n",
    "### We observe that most of the values are around 100,000"
   ]
  },
  {
   "cell_type": "code",
   "execution_count": 55,
   "metadata": {},
   "outputs": [
    {
     "data": {
      "image/png": "[encoded data removed]",
      "text/plain": [
       "<Figure size 432x288 with 1 Axes>"
      ]
     },
     "metadata": {
      "needs_background": "light"
     },
     "output_type": "display_data"
    }
   ],
   "source": [
    "### Lets plot histogram for Covid 19 Deaths less than 100,000\n",
    "\n",
    "hist_covid1=df_combine[\"Total_Deaths\"][df_combine[\"Total_Deaths\"]<100000].hist()"
   ]
  },
  {
   "cell_type": "markdown",
   "metadata": {},
   "source": [
    "How many Covid Deaths more than 100,000?"
   ]
  },
  {
   "cell_type": "code",
   "execution_count": 56,
   "metadata": {},
   "outputs": [
    {
     "data": {
      "text/plain": [
       "(11, 17)"
      ]
     },
     "execution_count": 56,
     "metadata": {},
     "output_type": "execute_result"
    }
   ],
   "source": [
    "df_combine[df_combine[\"Total_Deaths\"]>100000].shape"
   ]
  },
  {
   "cell_type": "markdown",
   "metadata": {},
   "source": [
    "we can see that only 11 listings have total deaths > 100,000. These are maybe typing error during input. Nonetheless, since this records are skewing our data a lot, we will treat them as outliers and drop them"
   ]
  },
  {
   "cell_type": "code",
   "execution_count": 57,
   "metadata": {},
   "outputs": [
    {
     "data": {
      "text/plain": [
       "count     6474.000000\n",
       "mean      2054.102926\n",
       "std       5063.005574\n",
       "min          0.000000\n",
       "25%         23.000000\n",
       "50%        200.500000\n",
       "75%       3914.085120\n",
       "max      99118.000000\n",
       "Name: Total_Deaths, dtype: float64"
      ]
     },
     "execution_count": 57,
     "metadata": {},
     "output_type": "execute_result"
    }
   ],
   "source": [
    "### We use 100,000 as threshold for covid deaths\n",
    "\n",
    "df_combine=df_combine[df_combine[\"Total_Deaths\"]<100000]\n",
    "\n",
    "### Looking at the Covid deaths column again\n",
    "df_combine[\"Total_Deaths\"].describe()"
   ]
  },
  {
   "cell_type": "code",
   "execution_count": null,
   "metadata": {},
   "outputs": [],
   "source": []
  },
  {
   "cell_type": "markdown",
   "metadata": {},
   "source": [
    "## Storing Structured Data into PostgreSQL\n",
    "\n",
    "Postgresql connection was established by importing the psycopg2 package. For better ease of use, I have installed\n",
    "Postgresql locally on virtual Machine, I was able to manage the interactions with the database."
   ]
  },
  {
   "cell_type": "code",
   "execution_count": 2,
   "metadata": {},
   "outputs": [],
   "source": [
    "#covid1"
   ]
  },
  {
   "cell_type": "markdown",
   "metadata": {},
   "source": [
    "To automate the execution of the program A database named \"healthdata\" is created in master notebook. I will use that database here here "
   ]
  },
  {
   "cell_type": "code",
   "execution_count": null,
   "metadata": {},
   "outputs": [],
   "source": []
  },
  {
   "cell_type": "markdown",
   "metadata": {},
   "source": [
    "#### A table named covid was created using appropriate SQL queries and data was read from the dataframe and inserted into PostgreSQL."
   ]
  },
  {
   "cell_type": "code",
   "execution_count": 63,
   "metadata": {},
   "outputs": [],
   "source": [
    "\n",
    "createString = \"\"\"\n",
    "CREATE TABLE IF NOT EXISTS covid(\n",
    "    State VARCHAR,\n",
    "    Age_group VARCHAR,\n",
    "    Race_and_Hispanic_Origin_Group VARCHAR,\n",
    "    COVID_19_Deaths integer,\n",
    "    Total_Deaths integer,\n",
    "    Pneumonia_Deaths integer,\n",
    "    Pneumonia_and_COVID_19_Deaths integer,\n",
    "    Influenza_Deaths integer,\n",
    "    Pneumonia_Influenza_or_COVID_19_Deaths integer,\n",
    "    Condition_Group VARCHAR,\n",
    "    Condition VARCHAR, \n",
    "    COVID_19_Deaths_conditions integer,\n",
    "    State_Cat integer,\n",
    "    Age_group_Cat integer,\n",
    "    Race_and_Hispanic_Origin_Group_Cat integer,\n",
    "    Condition_Group_Cat integer, \n",
    "    Condition_Cat integer\n",
    ");\n",
    "\"\"\"\n",
    "\n",
    "try:\n",
    "    dbConnection = psycopg2.connect(\n",
    "        user = \"dap\",\n",
    "        password = \"dap\",\n",
    "        host = \"192.168.56.30\",\n",
    "        port = \"5432\",\n",
    "        database = \"healthdata\")\n",
    "    dbConnection.set_isolation_level(0) # AUTOCOMMIT\n",
    "    dbCursor = dbConnection.cursor()\n",
    "    dbCursor.execute(createString)\n",
    "    dbCursor.close()\n",
    "except (Exception , psycopg2.Error) as dbError :\n",
    "    print (\"Error while connecting to PostgreSQL\", dbError)\n",
    "finally:\n",
    "    if(dbConnection): dbConnection.close()"
   ]
  },
  {
   "cell_type": "code",
   "execution_count": null,
   "metadata": {},
   "outputs": [],
   "source": []
  },
  {
   "cell_type": "code",
   "execution_count": 64,
   "metadata": {},
   "outputs": [
    {
     "name": "stdout",
     "output_type": "stream",
     "text": [
      "Data inserted using execute_many() successfully\n"
     ]
    }
   ],
   "source": [
    "# Creating a list of tupples from the dataframe values\n",
    "tpls = [tuple(x) for x in df_combine.to_numpy()]\n",
    "    \n",
    "# dataframe columns with Comma-separated\n",
    "cols = ','.join(list(df_combine.columns))\n",
    "\n",
    "#cols = 'State,\"Age group\",\"Race and Hispanic Origin Group\",\"COVID-19 Deaths\",\"Total Deaths\",\"Pneumonia Deaths\",\"Pneumonia and COVID-19 Deaths\",\"Influenza Deaths,Pneumonia, Influenza, or COVID-19 Deaths\",\"Condition Group\",Condition,\"COVID-19 Deaths_conditions\",State_Cat,Age group_Cat,\"Race and Hispanic Origin Group_Cat\",\"Condition Group_Cat\",Condition_Cat'\n",
    "table = \"covid\"\n",
    "\n",
    "\n",
    "# SQL query to execute\n",
    "\n",
    "chksql_covid_a = \"select case when (select 1 from  %s limit 1) = 1 then 1 else 0 end\" % (table)\n",
    "sql_covid_a = \"INSERT INTO %s(%s) VALUES(%%s,%%s,%%s,%%s,%%s,%%s,%%s,%%s,%%s,%%s,%%s,%%s,%%s,%%s,%%s,%%s,%%s)\" % (table, cols)\n",
    "\n",
    "try:\n",
    "    dbConnection = psycopg2.connect(\n",
    "    user = \"dap\",\n",
    "    password = \"dap\",\n",
    "    host = \"192.168.56.30\",\n",
    "    port = \"5432\",\n",
    "    database = \"healthdata\")\n",
    "    dbConnection.set_isolation_level(0) # AUTOCOMMIT\n",
    "    tablechk = sqlio.read_sql_query(chksql_covid_a, dbConnection)\n",
    "    if(tablechk['case'].sum() == 0):\n",
    "        dbCursor = dbConnection.cursor()\n",
    "        dbCursor.executemany(sql_covid_a, tpls)\n",
    "        print(\"Data inserted using execute_many() successfully\")\n",
    "        dbCursor.close()\n",
    "    elif(tablechk['case'].sum() > 0):\n",
    "        print(\"Table is already loaded with data\")\n",
    "except (Exception , psycopg2.Error) as dbError :\n",
    "    print (\"Error while connecting to PostgreSQL\", dbError)\n",
    "finally:\n",
    "    if(dbConnection): dbConnection.close()"
   ]
  },
  {
   "cell_type": "code",
   "execution_count": null,
   "metadata": {},
   "outputs": [],
   "source": []
  },
  {
   "cell_type": "code",
   "execution_count": 65,
   "metadata": {},
   "outputs": [],
   "source": [
    "sql = \"\"\"\n",
    "    SELECT * FROM covid;\n",
    "\"\"\"\n",
    "\n",
    "try:\n",
    "    dbConnection = psycopg2.connect(\n",
    "        user = \"dap\",\n",
    "        password = \"dap\",\n",
    "        host = \"192.168.56.30\",\n",
    "        port = \"5432\",\n",
    "        database = \"healthdata\")\n",
    "    covid_df = sqlio.read_sql_query(sql, dbConnection)\n",
    "except (Exception , psycopg2.Error) as dbError :\n",
    "    print (\"Error:\", dbError)\n",
    "finally:\n",
    "    if(dbConnection): dbConnection.close()"
   ]
  },
  {
   "cell_type": "code",
   "execution_count": 66,
   "metadata": {},
   "outputs": [
    {
     "data": {
      "text/plain": [
       "(6474, 17)"
      ]
     },
     "execution_count": 66,
     "metadata": {},
     "output_type": "execute_result"
    }
   ],
   "source": [
    "covid_df.shape"
   ]
  },
  {
   "cell_type": "code",
   "execution_count": 67,
   "metadata": {},
   "outputs": [
    {
     "data": {
      "text/html": [
       "<div>\n",
       "<style scoped>\n",
       "    .dataframe tbody tr th:only-of-type {\n",
       "        vertical-align: middle;\n",
       "    }\n",
       "\n",
       "    .dataframe tbody tr th {\n",
       "        vertical-align: top;\n",
       "    }\n",
       "\n",
       "    .dataframe thead th {\n",
       "        text-align: right;\n",
       "    }\n",
       "</style>\n",
       "<table border=\"1\" class=\"dataframe\">\n",
       "  <thead>\n",
       "    <tr style=\"text-align: right;\">\n",
       "      <th></th>\n",
       "      <th>count</th>\n",
       "      <th>unique</th>\n",
       "      <th>top</th>\n",
       "      <th>freq</th>\n",
       "      <th>mean</th>\n",
       "      <th>std</th>\n",
       "      <th>min</th>\n",
       "      <th>25%</th>\n",
       "      <th>50%</th>\n",
       "      <th>75%</th>\n",
       "      <th>max</th>\n",
       "    </tr>\n",
       "  </thead>\n",
       "  <tbody>\n",
       "    <tr>\n",
       "      <th>state</th>\n",
       "      <td>6474</td>\n",
       "      <td>54</td>\n",
       "      <td>Georgia</td>\n",
       "      <td>120</td>\n",
       "      <td>NaN</td>\n",
       "      <td>NaN</td>\n",
       "      <td>NaN</td>\n",
       "      <td>NaN</td>\n",
       "      <td>NaN</td>\n",
       "      <td>NaN</td>\n",
       "      <td>NaN</td>\n",
       "    </tr>\n",
       "    <tr>\n",
       "      <th>age_group</th>\n",
       "      <td>6474</td>\n",
       "      <td>16</td>\n",
       "      <td>25-34 years</td>\n",
       "      <td>432</td>\n",
       "      <td>NaN</td>\n",
       "      <td>NaN</td>\n",
       "      <td>NaN</td>\n",
       "      <td>NaN</td>\n",
       "      <td>NaN</td>\n",
       "      <td>NaN</td>\n",
       "      <td>NaN</td>\n",
       "    </tr>\n",
       "    <tr>\n",
       "      <th>race_and_hispanic_origin_group</th>\n",
       "      <td>6474</td>\n",
       "      <td>8</td>\n",
       "      <td>Non-Hispanic American Indian or Alaska Native</td>\n",
       "      <td>811</td>\n",
       "      <td>NaN</td>\n",
       "      <td>NaN</td>\n",
       "      <td>NaN</td>\n",
       "      <td>NaN</td>\n",
       "      <td>NaN</td>\n",
       "      <td>NaN</td>\n",
       "      <td>NaN</td>\n",
       "    </tr>\n",
       "    <tr>\n",
       "      <th>covid_19_deaths</th>\n",
       "      <td>6474</td>\n",
       "      <td>NaN</td>\n",
       "      <td>NaN</td>\n",
       "      <td>NaN</td>\n",
       "      <td>268.332</td>\n",
       "      <td>880.482</td>\n",
       "      <td>0</td>\n",
       "      <td>0</td>\n",
       "      <td>15.5</td>\n",
       "      <td>497</td>\n",
       "      <td>26238</td>\n",
       "    </tr>\n",
       "    <tr>\n",
       "      <th>total_deaths</th>\n",
       "      <td>6474</td>\n",
       "      <td>NaN</td>\n",
       "      <td>NaN</td>\n",
       "      <td>NaN</td>\n",
       "      <td>2054.08</td>\n",
       "      <td>5063</td>\n",
       "      <td>0</td>\n",
       "      <td>23</td>\n",
       "      <td>200.5</td>\n",
       "      <td>3914</td>\n",
       "      <td>99118</td>\n",
       "    </tr>\n",
       "    <tr>\n",
       "      <th>pneumonia_deaths</th>\n",
       "      <td>6474</td>\n",
       "      <td>NaN</td>\n",
       "      <td>NaN</td>\n",
       "      <td>NaN</td>\n",
       "      <td>249.37</td>\n",
       "      <td>700.674</td>\n",
       "      <td>0</td>\n",
       "      <td>0</td>\n",
       "      <td>21.5</td>\n",
       "      <td>451</td>\n",
       "      <td>18920</td>\n",
       "    </tr>\n",
       "    <tr>\n",
       "      <th>pneumonia_and_covid_19_deaths</th>\n",
       "      <td>6474</td>\n",
       "      <td>NaN</td>\n",
       "      <td>NaN</td>\n",
       "      <td>NaN</td>\n",
       "      <td>122.453</td>\n",
       "      <td>481.858</td>\n",
       "      <td>0</td>\n",
       "      <td>0</td>\n",
       "      <td>0</td>\n",
       "      <td>233</td>\n",
       "      <td>15359</td>\n",
       "    </tr>\n",
       "    <tr>\n",
       "      <th>influenza_deaths</th>\n",
       "      <td>6474</td>\n",
       "      <td>NaN</td>\n",
       "      <td>NaN</td>\n",
       "      <td>NaN</td>\n",
       "      <td>3.64705</td>\n",
       "      <td>12.7013</td>\n",
       "      <td>0</td>\n",
       "      <td>0</td>\n",
       "      <td>0</td>\n",
       "      <td>6.75</td>\n",
       "      <td>344</td>\n",
       "    </tr>\n",
       "    <tr>\n",
       "      <th>pneumonia_influenza_or_covid_19_deaths</th>\n",
       "      <td>6474</td>\n",
       "      <td>NaN</td>\n",
       "      <td>NaN</td>\n",
       "      <td>NaN</td>\n",
       "      <td>412.01</td>\n",
       "      <td>1112.66</td>\n",
       "      <td>0</td>\n",
       "      <td>0</td>\n",
       "      <td>41</td>\n",
       "      <td>736</td>\n",
       "      <td>29943</td>\n",
       "    </tr>\n",
       "    <tr>\n",
       "      <th>condition_group</th>\n",
       "      <td>6474</td>\n",
       "      <td>12</td>\n",
       "      <td>Circulatory diseases</td>\n",
       "      <td>1959</td>\n",
       "      <td>NaN</td>\n",
       "      <td>NaN</td>\n",
       "      <td>NaN</td>\n",
       "      <td>NaN</td>\n",
       "      <td>NaN</td>\n",
       "      <td>NaN</td>\n",
       "      <td>NaN</td>\n",
       "    </tr>\n",
       "    <tr>\n",
       "      <th>condition</th>\n",
       "      <td>6474</td>\n",
       "      <td>23</td>\n",
       "      <td>Adult respiratory distress syndrome</td>\n",
       "      <td>289</td>\n",
       "      <td>NaN</td>\n",
       "      <td>NaN</td>\n",
       "      <td>NaN</td>\n",
       "      <td>NaN</td>\n",
       "      <td>NaN</td>\n",
       "      <td>NaN</td>\n",
       "      <td>NaN</td>\n",
       "    </tr>\n",
       "    <tr>\n",
       "      <th>covid_19_deaths_conditions</th>\n",
       "      <td>6474</td>\n",
       "      <td>NaN</td>\n",
       "      <td>NaN</td>\n",
       "      <td>NaN</td>\n",
       "      <td>1141.57</td>\n",
       "      <td>9123.88</td>\n",
       "      <td>0</td>\n",
       "      <td>15</td>\n",
       "      <td>139</td>\n",
       "      <td>1189</td>\n",
       "      <td>536793</td>\n",
       "    </tr>\n",
       "    <tr>\n",
       "      <th>state_cat</th>\n",
       "      <td>6474</td>\n",
       "      <td>NaN</td>\n",
       "      <td>NaN</td>\n",
       "      <td>NaN</td>\n",
       "      <td>26.4819</td>\n",
       "      <td>15.5829</td>\n",
       "      <td>0</td>\n",
       "      <td>13</td>\n",
       "      <td>26</td>\n",
       "      <td>40</td>\n",
       "      <td>53</td>\n",
       "    </tr>\n",
       "    <tr>\n",
       "      <th>age_group_cat</th>\n",
       "      <td>6474</td>\n",
       "      <td>NaN</td>\n",
       "      <td>NaN</td>\n",
       "      <td>NaN</td>\n",
       "      <td>7.06657</td>\n",
       "      <td>4.4376</td>\n",
       "      <td>0</td>\n",
       "      <td>3</td>\n",
       "      <td>7</td>\n",
       "      <td>11</td>\n",
       "      <td>15</td>\n",
       "    </tr>\n",
       "    <tr>\n",
       "      <th>race_and_hispanic_origin_group_cat</th>\n",
       "      <td>6474</td>\n",
       "      <td>NaN</td>\n",
       "      <td>NaN</td>\n",
       "      <td>NaN</td>\n",
       "      <td>3.62326</td>\n",
       "      <td>2.49783</td>\n",
       "      <td>0</td>\n",
       "      <td>1</td>\n",
       "      <td>3</td>\n",
       "      <td>5</td>\n",
       "      <td>8</td>\n",
       "    </tr>\n",
       "    <tr>\n",
       "      <th>condition_group_cat</th>\n",
       "      <td>6474</td>\n",
       "      <td>NaN</td>\n",
       "      <td>NaN</td>\n",
       "      <td>NaN</td>\n",
       "      <td>5.62743</td>\n",
       "      <td>3.24134</td>\n",
       "      <td>0</td>\n",
       "      <td>3</td>\n",
       "      <td>5</td>\n",
       "      <td>9</td>\n",
       "      <td>11</td>\n",
       "    </tr>\n",
       "    <tr>\n",
       "      <th>condition_cat</th>\n",
       "      <td>6474</td>\n",
       "      <td>NaN</td>\n",
       "      <td>NaN</td>\n",
       "      <td>NaN</td>\n",
       "      <td>11.0048</td>\n",
       "      <td>6.64266</td>\n",
       "      <td>0</td>\n",
       "      <td>5</td>\n",
       "      <td>11</td>\n",
       "      <td>17</td>\n",
       "      <td>22</td>\n",
       "    </tr>\n",
       "  </tbody>\n",
       "</table>\n",
       "</div>"
      ],
      "text/plain": [
       "                                       count unique  \\\n",
       "state                                   6474     54   \n",
       "age_group                               6474     16   \n",
       "race_and_hispanic_origin_group          6474      8   \n",
       "covid_19_deaths                         6474    NaN   \n",
       "total_deaths                            6474    NaN   \n",
       "pneumonia_deaths                        6474    NaN   \n",
       "pneumonia_and_covid_19_deaths           6474    NaN   \n",
       "influenza_deaths                        6474    NaN   \n",
       "pneumonia_influenza_or_covid_19_deaths  6474    NaN   \n",
       "condition_group                         6474     12   \n",
       "condition                               6474     23   \n",
       "covid_19_deaths_conditions              6474    NaN   \n",
       "state_cat                               6474    NaN   \n",
       "age_group_cat                           6474    NaN   \n",
       "race_and_hispanic_origin_group_cat      6474    NaN   \n",
       "condition_group_cat                     6474    NaN   \n",
       "condition_cat                           6474    NaN   \n",
       "\n",
       "                                                                                  top  \\\n",
       "state                                                                         Georgia   \n",
       "age_group                                                                 25-34 years   \n",
       "race_and_hispanic_origin_group          Non-Hispanic American Indian or Alaska Native   \n",
       "covid_19_deaths                                                                   NaN   \n",
       "total_deaths                                                                      NaN   \n",
       "pneumonia_deaths                                                                  NaN   \n",
       "pneumonia_and_covid_19_deaths                                                     NaN   \n",
       "influenza_deaths                                                                  NaN   \n",
       "pneumonia_influenza_or_covid_19_deaths                                            NaN   \n",
       "condition_group                                                  Circulatory diseases   \n",
       "condition                                         Adult respiratory distress syndrome   \n",
       "covid_19_deaths_conditions                                                        NaN   \n",
       "state_cat                                                                         NaN   \n",
       "age_group_cat                                                                     NaN   \n",
       "race_and_hispanic_origin_group_cat                                                NaN   \n",
       "condition_group_cat                                                               NaN   \n",
       "condition_cat                                                                     NaN   \n",
       "\n",
       "                                        freq     mean      std  min  25%  \\\n",
       "state                                    120      NaN      NaN  NaN  NaN   \n",
       "age_group                                432      NaN      NaN  NaN  NaN   \n",
       "race_and_hispanic_origin_group           811      NaN      NaN  NaN  NaN   \n",
       "covid_19_deaths                          NaN  268.332  880.482    0    0   \n",
       "total_deaths                             NaN  2054.08     5063    0   23   \n",
       "pneumonia_deaths                         NaN   249.37  700.674    0    0   \n",
       "pneumonia_and_covid_19_deaths            NaN  122.453  481.858    0    0   \n",
       "influenza_deaths                         NaN  3.64705  12.7013    0    0   \n",
       "pneumonia_influenza_or_covid_19_deaths   NaN   412.01  1112.66    0    0   \n",
       "condition_group                         1959      NaN      NaN  NaN  NaN   \n",
       "condition                                289      NaN      NaN  NaN  NaN   \n",
       "covid_19_deaths_conditions               NaN  1141.57  9123.88    0   15   \n",
       "state_cat                                NaN  26.4819  15.5829    0   13   \n",
       "age_group_cat                            NaN  7.06657   4.4376    0    3   \n",
       "race_and_hispanic_origin_group_cat       NaN  3.62326  2.49783    0    1   \n",
       "condition_group_cat                      NaN  5.62743  3.24134    0    3   \n",
       "condition_cat                            NaN  11.0048  6.64266    0    5   \n",
       "\n",
       "                                          50%   75%     max  \n",
       "state                                     NaN   NaN     NaN  \n",
       "age_group                                 NaN   NaN     NaN  \n",
       "race_and_hispanic_origin_group            NaN   NaN     NaN  \n",
       "covid_19_deaths                          15.5   497   26238  \n",
       "total_deaths                            200.5  3914   99118  \n",
       "pneumonia_deaths                         21.5   451   18920  \n",
       "pneumonia_and_covid_19_deaths               0   233   15359  \n",
       "influenza_deaths                            0  6.75     344  \n",
       "pneumonia_influenza_or_covid_19_deaths     41   736   29943  \n",
       "condition_group                           NaN   NaN     NaN  \n",
       "condition                                 NaN   NaN     NaN  \n",
       "covid_19_deaths_conditions                139  1189  536793  \n",
       "state_cat                                  26    40      53  \n",
       "age_group_cat                               7    11      15  \n",
       "race_and_hispanic_origin_group_cat          3     5       8  \n",
       "condition_group_cat                         5     9      11  \n",
       "condition_cat                              11    17      22  "
      ]
     },
     "execution_count": 67,
     "metadata": {},
     "output_type": "execute_result"
    }
   ],
   "source": [
    "pd.set_option('display.max_rows', covid_df.shape[0]+1)\n",
    "covid_df.describe(include = 'all').transpose()"
   ]
  },
  {
   "cell_type": "markdown",
   "metadata": {},
   "source": [
    "## Descriptive Analysis of Data"
   ]
  },
  {
   "cell_type": "code",
   "execution_count": 68,
   "metadata": {},
   "outputs": [
    {
     "data": {
      "text/plain": [
       "Text(0, 0.5, 'Oredered value')"
      ]
     },
     "execution_count": 68,
     "metadata": {},
     "output_type": "execute_result"
    },
    {
     "data": {
      "image/png": "[encoded data removed]",
      "text/plain": [
       "<Figure size 1080x936 with 4 Axes>"
      ]
     },
     "metadata": {
      "needs_background": "light"
     },
     "output_type": "display_data"
    }
   ],
   "source": [
    "fig, ax = plt.subplots(figsize=(15, 13))\n",
    "plt.subplot(2, 2, 1)\n",
    "stats.probplot(covid_df['pneumonia_deaths'], dist=\"norm\", plot=pylab)\n",
    "plt.title(\"Q-Q plot for Pneumonia Deaths\", fontsize=20)\n",
    "#plt.xlabel('xlabel', fontsize=18)\n",
    "plt.xlabel('Theoritical quantiles', fontsize=18)\n",
    "plt.ylabel('Oredered value', fontsize=18)\n",
    "\n",
    "plt.subplot(2, 2, 2)\n",
    "stats.probplot(covid_df['influenza_deaths'], dist=\"norm\", plot=pylab)\n",
    "plt.title(\"Q-Q plot for Influenza Deaths\",fontsize=20)\n",
    "plt.xlabel('Theoritical quantiles', fontsize=18)\n",
    "plt.ylabel('Oredered value', fontsize=18)\n",
    "\n",
    "plt.subplot(2, 2, 3)\n",
    "stats.probplot(covid_df['covid_19_deaths'], dist=\"norm\", plot=pylab)\n",
    "plt.title(\"Q-Q plot for Covid Deaths\",fontsize=20)\n",
    "plt.xlabel('Theoritical quantiles', fontsize=18)\n",
    "plt.ylabel('Oredered value', fontsize=18)\n",
    "\n",
    "plt.subplot(2, 2, 4)\n",
    "stats.probplot(covid_df['total_deaths'], dist=\"norm\", plot=pylab)\n",
    "plt.title(\"Q-Q plot for Total Deaths\", fontsize=20)\n",
    "plt.xlabel('Theoritical quantiles', fontsize=18)\n",
    "plt.ylabel('Oredered value', fontsize=18)"
   ]
  },
  {
   "cell_type": "markdown",
   "metadata": {},
   "source": [
    "The Q-Q plots of influenza, pneumonia, Covid-19 and totals deaths shows that there is not normal distribution in these attributes ideally it should be straight diagonal line. The graph also illustrate the potential outliers in data but as per context they maybe not outliers because there might be some exception in deaths in some situation"
   ]
  },
  {
   "cell_type": "markdown",
   "metadata": {},
   "source": [
    "#### Scatter Plot with trend Line of Covid-19 deaths vs influenza deaths"
   ]
  },
  {
   "cell_type": "code",
   "execution_count": 76,
   "metadata": {},
   "outputs": [
    {
     "data": {
      "text/plain": [
       "<seaborn.axisgrid.FacetGrid at 0x955c6f3fd0>"
      ]
     },
     "execution_count": 76,
     "metadata": {},
     "output_type": "execute_result"
    },
    {
     "data": {
      "image/png": "[encoded data removed]",
      "text/plain": [
       "<Figure size 806.4x504 with 1 Axes>"
      ]
     },
     "metadata": {
      "needs_background": "light"
     },
     "output_type": "display_data"
    }
   ],
   "source": [
    "sns.set_context(\"paper\", rc={\"font.size\":20,\"axes.titlesize\":20,\"axes.labelsize\":20})\n",
    "sns.lmplot(x=\"influenza_deaths\", y=\"covid_19_deaths\", data=covid_df, \n",
    "                     height=7, aspect=1.6, robust=True, palette='tab10', \n",
    "                     scatter_kws=dict(s=60, linewidths=.7, edgecolors='black'))"
   ]
  },
  {
   "cell_type": "markdown",
   "metadata": {},
   "source": [
    "#### Scatter Plot with trend Line of Covid-19 deaths vs pneumonia deaths"
   ]
  },
  {
   "cell_type": "code",
   "execution_count": 75,
   "metadata": {},
   "outputs": [
    {
     "data": {
      "text/plain": [
       "<seaborn.axisgrid.FacetGrid at 0x955ccfd2b0>"
      ]
     },
     "execution_count": 75,
     "metadata": {},
     "output_type": "execute_result"
    },
    {
     "data": {
      "image/png": "[encoded data removed]",
      "text/plain": [
       "<Figure size 806.4x504 with 1 Axes>"
      ]
     },
     "metadata": {
      "needs_background": "light"
     },
     "output_type": "display_data"
    }
   ],
   "source": [
    "sns.set_context(\"paper\", rc={\"font.size\":20,\"axes.titlesize\":20,\"axes.labelsize\":20})\n",
    "sns.lmplot(x=\"pneumonia_deaths\", y=\"covid_19_deaths\", data=covid_df, \n",
    "                     height=7, aspect=1.6, robust=True, palette='tab10', \n",
    "                     scatter_kws=dict(s=60, linewidths=.7, edgecolors='black'))\n"
   ]
  },
  {
   "cell_type": "markdown",
   "metadata": {},
   "source": [
    "### Disease condition group with respect to race aged between 0 t 64 in top 5 state of the US"
   ]
  },
  {
   "cell_type": "code",
   "execution_count": 69,
   "metadata": {},
   "outputs": [
    {
     "data": {
      "text/plain": [
       "array(['Respiratory diseases', 'Circulatory diseases', 'Sepsis',\n",
       "       'Malignant neoplasms', 'Diabetes', 'Obesity', 'Alzheimer disease',\n",
       "       'Vascular and unspecified dementia', 'Renal failure',\n",
       "       'Intentional and unintentional injury, poisoning, and other adverse events',\n",
       "       'All other conditions and causes (residual)', 'COVID-19'],\n",
       "      dtype=object)"
      ]
     },
     "execution_count": 69,
     "metadata": {},
     "output_type": "execute_result"
    }
   ],
   "source": [
    "covid_df.condition_group.unique()"
   ]
  },
  {
   "cell_type": "code",
   "execution_count": 70,
   "metadata": {},
   "outputs": [],
   "source": [
    "df1=covid_df[covid_df['age_group'].isin(['0-17 years','18-29 years','30-49 years','50-64 years'])]\n",
    "df2=df1[df1['state'].isin(['California','Florida','Texas','New York','Pennsylvania'])]\n",
    "df3=df2[df2['race_and_hispanic_origin_group'].isin(['Non-Hispanic White', 'Non-Hispanic Black','Non-Hispanic Asian'])]\n",
    "df4=df3[df3['condition_group'].isin(['Respiratory diseases', 'Circulatory diseases', 'Sepsis','Malignant neoplasms', 'Diabetes', 'Obesity', 'Alzheimer disease','Renal failure'])]"
   ]
  },
  {
   "cell_type": "code",
   "execution_count": 71,
   "metadata": {},
   "outputs": [
    {
     "data": {
      "text/plain": [
       "<matplotlib.legend.Legend at 0xacf3edd6d0>"
      ]
     },
     "execution_count": 71,
     "metadata": {},
     "output_type": "execute_result"
    },
    {
     "data": {
      "image/png": "[encoded data removed]",
      "text/plain": [
       "<Figure size 1080x432 with 1 Axes>"
      ]
     },
     "metadata": {
      "needs_background": "light"
     },
     "output_type": "display_data"
    }
   ],
   "source": [
    "plt.figure(figsize=(15,6))\n",
    "\n",
    "sns.countplot(data=df4, x='condition_group', hue='race_and_hispanic_origin_group', palette='GnBu_d')\n",
    "#sns.countplot(data=df2, hue='race_and_hispanic_origin_group', x='age_group', palette='GnBu_d')\n",
    "plt.title('Disease condition group with respect to race aged between 0 t 64 in top 5 state of the US', fontsize=15)\n",
    "plt.xlabel('Neighbourhood group')\n",
    "plt.ylabel(\"Count\")\n",
    "plt.xticks(rotation=45)\n",
    "plt.legend(fontsize=12)"
   ]
  }
 ],
 "metadata": {
  "kernelspec": {
   "display_name": "Python 3",
   "language": "python",
   "name": "python3"
  },
  "language_info": {
   "codemirror_mode": {
    "name": "ipython",
    "version": 3
   },
   "file_extension": ".py",
   "mimetype": "text/x-python",
   "name": "python",
   "nbconvert_exporter": "python",
   "pygments_lexer": "ipython3",
   "version": "3.8.5"
  }
 },
 "nbformat": 4,
 "nbformat_minor": 4
}
